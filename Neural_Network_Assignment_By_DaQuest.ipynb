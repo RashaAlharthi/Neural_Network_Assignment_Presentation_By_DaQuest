{
  "nbformat": 4,
  "nbformat_minor": 0,
  "metadata": {
    "colab": {
      "provenance": [],
      "collapsed_sections": []
    },
    "kernelspec": {
      "name": "python3",
      "display_name": "Python 3"
    },
    "language_info": {
      "name": "python"
    }
  },
  "cells": [
    {
      "cell_type": "markdown",
      "source": [
        "### Import the needed packages"
      ],
      "metadata": {
        "id": "Jv5ss2hoJ3CM"
      }
    },
    {
      "cell_type": "code",
      "execution_count": null,
      "metadata": {
        "id": "c0W1fNBYJoEo"
      },
      "outputs": [],
      "source": [
        "import numpy as np\n",
        "import pandas as pd\n",
        "import seaborn as sns\n",
        "import matplotlib.pyplot as plt\n",
        "import plotly.express as px\n",
        "import tensorflow as tf\n",
        "from tensorflow.keras import metrics\n",
        "\n",
        "from sklearn.preprocessing import LabelEncoder\n",
        "from sklearn.compose import ColumnTransformer\n",
        "from sklearn.preprocessing import OneHotEncoder\n",
        "from sklearn.model_selection import train_test_split\n",
        "from sklearn.preprocessing import StandardScaler\n",
        "from sklearn.metrics import plot_confusion_matrix\n",
        "from sklearn.metrics import confusion_matrix\n",
        "from sklearn.metrics import ConfusionMatrixDisplay\n",
        "from sklearn.metrics import classification_report\n",
        "\n",
        "\n",
        "from sklearn.linear_model import LogisticRegression\n",
        "from sklearn.tree import DecisionTreeClassifier\n",
        "from sklearn.neighbors import KNeighborsClassifier\n",
        "from sklearn.ensemble import RandomForestClassifier\n",
        "from sklearn.svm import SVC\n",
        "from xgboost import XGBClassifier\n",
        "\n",
        "from sklearn.model_selection import GridSearchCV\n",
        "from sklearn.impute import SimpleImputer\n",
        "from sklearn.pipeline import Pipeline\n",
        "from sklearn.pipeline import make_pipeline\n",
        "from sklearn.decomposition import PCA\n",
        "\n",
        "from sklearn.metrics import confusion_matrix\n",
        "from sklearn.metrics import ConfusionMatrixDisplay\n",
        "from sklearn.metrics import classification_report\n",
        "from sklearn.metrics import precision_score,recall_score,accuracy_score"
      ]
    },
    {
      "cell_type": "markdown",
      "source": [
        "### **Attribute Information**\n",
        "- Age: age of the patient [years]\n",
        "- Sex: sex of the patient [M: Male, F: Female]\n",
        "- ChestPainType: chest pain type [TA: Typical Angina, ATA: Atypical Angina, NAP: Non-Anginal Pain, ASY: Asymptomatic]\n",
        "- RestingBP: resting blood pressure [mm Hg]\n",
        "- Cholesterol: serum cholesterol [mm/dl]\n",
        "- FastingBS: fasting blood sugar [1: if FastingBS > 120 mg/dl, 0: otherwise]\n",
        "- RestingECG: resting electrocardiogram results [Normal: Normal, ST: having ST-T wave abnormality (T wave inversions and/or ST elevation or depression of > 0.05 mV), LVH: showing probable or definite left ventricular hypertrophy by Estes' criteria]\n",
        "- MaxHR: maximum heart rate achieved [Numeric value between 60 and 202]\n",
        "- ExerciseAngina: exercise-induced angina [Y: Yes, N: No]\n",
        "- Oldpeak: oldpeak = ST [Numeric value measured in depression]\n",
        "- ST_Slope: the slope of the peak exercise ST segment [Up: upsloping, Flat: flat, Down: downsloping]\n",
        "- HeartDisease: output class [1: heart disease, 0: Normal]"
      ],
      "metadata": {
        "id": "A_U3XjzDJ5nG"
      }
    },
    {
      "cell_type": "markdown",
      "source": [
        "### Get the dataset"
      ],
      "metadata": {
        "id": "JQ-7raQrJ-92"
      }
    },
    {
      "cell_type": "code",
      "source": [
        "dataset = pd.read_csv('heart.csv')"
      ],
      "metadata": {
        "id": "NdCR-CzyJ8SH"
      },
      "execution_count": null,
      "outputs": []
    },
    {
      "cell_type": "code",
      "source": [
        "print('\\033[1m' + '------------------ Shape ------------------' + '\\033[0m')\n",
        "print(dataset.shape)\n",
        "print('\\033[1m' + '------------------ Types ------------------' + '\\033[0m')\n",
        "print(dataset.dtypes)\n",
        "print('\\033[1m' + '------------------ Head ------------------' + '\\033[0m')\n",
        "print(dataset.head())\n",
        "print('\\033[1m' + '------------------ Tail ------------------' + '\\033[0m')\n",
        "print(dataset.head())\n",
        "print('\\033[1m' + '--------------- Unique Elements ---------------' + '\\033[0m')\n",
        "print(dataset.nunique())\n",
        "print('\\033[1m' + '------------------ NA ------------------' + '\\033[0m')\n",
        "print(dataset.isnull().sum())\n",
        "print('\\033[1m' + '------------------ Quantiles ------------------' + '\\033[0m')\n",
        "print(dataset.describe([0, 0.05, 0.50, 0.95, 0.99, 1]).T)\n",
        "print('\\033[1m' + '------------------ Sample ------------------' + '\\033[0m')\n",
        "print(dataset.sample(5))"
      ],
      "metadata": {
        "colab": {
          "base_uri": "https://localhost:8080/"
        },
        "id": "Rud_3M_JKBKQ",
        "outputId": "89ca7b2e-f39f-4ddf-dea6-27c731552ef7"
      },
      "execution_count": null,
      "outputs": [
        {
          "output_type": "stream",
          "name": "stdout",
          "text": [
            "\u001b[1m------------------ Shape ------------------\u001b[0m\n",
            "(918, 12)\n",
            "\u001b[1m------------------ Types ------------------\u001b[0m\n",
            "Age                 int64\n",
            "Sex                object\n",
            "ChestPainType      object\n",
            "RestingBP           int64\n",
            "Cholesterol         int64\n",
            "FastingBS           int64\n",
            "RestingECG         object\n",
            "MaxHR               int64\n",
            "ExerciseAngina     object\n",
            "Oldpeak           float64\n",
            "ST_Slope           object\n",
            "HeartDisease        int64\n",
            "dtype: object\n",
            "\u001b[1m------------------ Head ------------------\u001b[0m\n",
            "   Age Sex ChestPainType  RestingBP  Cholesterol  FastingBS RestingECG  MaxHR  \\\n",
            "0   40   M           ATA        140          289          0     Normal    172   \n",
            "1   49   F           NAP        160          180          0     Normal    156   \n",
            "2   37   M           ATA        130          283          0         ST     98   \n",
            "3   48   F           ASY        138          214          0     Normal    108   \n",
            "4   54   M           NAP        150          195          0     Normal    122   \n",
            "\n",
            "  ExerciseAngina  Oldpeak ST_Slope  HeartDisease  \n",
            "0              N      0.0       Up             0  \n",
            "1              N      1.0     Flat             1  \n",
            "2              N      0.0       Up             0  \n",
            "3              Y      1.5     Flat             1  \n",
            "4              N      0.0       Up             0  \n",
            "\u001b[1m------------------ Tail ------------------\u001b[0m\n",
            "   Age Sex ChestPainType  RestingBP  Cholesterol  FastingBS RestingECG  MaxHR  \\\n",
            "0   40   M           ATA        140          289          0     Normal    172   \n",
            "1   49   F           NAP        160          180          0     Normal    156   \n",
            "2   37   M           ATA        130          283          0         ST     98   \n",
            "3   48   F           ASY        138          214          0     Normal    108   \n",
            "4   54   M           NAP        150          195          0     Normal    122   \n",
            "\n",
            "  ExerciseAngina  Oldpeak ST_Slope  HeartDisease  \n",
            "0              N      0.0       Up             0  \n",
            "1              N      1.0     Flat             1  \n",
            "2              N      0.0       Up             0  \n",
            "3              Y      1.5     Flat             1  \n",
            "4              N      0.0       Up             0  \n",
            "\u001b[1m--------------- Unique Elements ---------------\u001b[0m\n",
            "Age                50\n",
            "Sex                 2\n",
            "ChestPainType       4\n",
            "RestingBP          67\n",
            "Cholesterol       222\n",
            "FastingBS           2\n",
            "RestingECG          3\n",
            "MaxHR             119\n",
            "ExerciseAngina      2\n",
            "Oldpeak            53\n",
            "ST_Slope            3\n",
            "HeartDisease        2\n",
            "dtype: int64\n",
            "\u001b[1m------------------ NA ------------------\u001b[0m\n",
            "Age               0\n",
            "Sex               0\n",
            "ChestPainType     0\n",
            "RestingBP         0\n",
            "Cholesterol       0\n",
            "FastingBS         0\n",
            "RestingECG        0\n",
            "MaxHR             0\n",
            "ExerciseAngina    0\n",
            "Oldpeak           0\n",
            "ST_Slope          0\n",
            "HeartDisease      0\n",
            "dtype: int64\n",
            "\u001b[1m------------------ Quantiles ------------------\u001b[0m\n",
            "              count        mean         std   min    0%     5%    50%    95%  \\\n",
            "Age           918.0   53.510893    9.432617  28.0  28.0   37.0   54.0   68.0   \n",
            "RestingBP     918.0  132.396514   18.514154   0.0   0.0  106.0  130.0  160.0   \n",
            "Cholesterol   918.0  198.799564  109.384145   0.0   0.0    0.0  223.0  331.3   \n",
            "FastingBS     918.0    0.233115    0.423046   0.0   0.0    0.0    0.0    1.0   \n",
            "MaxHR         918.0  136.809368   25.460334  60.0  60.0   96.0  138.0  178.0   \n",
            "Oldpeak       918.0    0.887364    1.066570  -2.6  -2.6    0.0    0.6    3.0   \n",
            "HeartDisease  918.0    0.553377    0.497414   0.0   0.0    0.0    1.0    1.0   \n",
            "\n",
            "                 99%   100%    max  \n",
            "Age            74.00   77.0   77.0  \n",
            "RestingBP     180.00  200.0  200.0  \n",
            "Cholesterol   411.49  603.0  603.0  \n",
            "FastingBS       1.00    1.0    1.0  \n",
            "MaxHR         186.00  202.0  202.0  \n",
            "Oldpeak         4.00    6.2    6.2  \n",
            "HeartDisease    1.00    1.0    1.0  \n",
            "\u001b[1m------------------ Sample ------------------\u001b[0m\n",
            "     Age Sex ChestPainType  RestingBP  Cholesterol  FastingBS RestingECG  \\\n",
            "436   58   M           ASY        116            0          0     Normal   \n",
            "419   55   M           ASY        142          228          0         ST   \n",
            "483   58   M           ASY        120            0          0        LVH   \n",
            "762   40   M           ASY        110          167          0        LVH   \n",
            "467   63   F           ATA        132            0          0     Normal   \n",
            "\n",
            "     MaxHR ExerciseAngina  Oldpeak ST_Slope  HeartDisease  \n",
            "436    124              N      1.0       Up             1  \n",
            "419    149              Y      2.5       Up             1  \n",
            "483    106              Y      1.5     Down             1  \n",
            "762    114              Y      2.0     Flat             1  \n",
            "467    130              N      0.1       Up             0  \n"
          ]
        }
      ]
    },
    {
      "cell_type": "code",
      "source": [
        "# Feature set \n",
        "# The target will not be included \n",
        "X = dataset.iloc[:, :-1]\n",
        "\n",
        "# The target will be the last column\n",
        "y = dataset.iloc[:, -1]"
      ],
      "metadata": {
        "id": "Wj7qgX0ZKus9"
      },
      "execution_count": null,
      "outputs": []
    },
    {
      "cell_type": "code",
      "source": [
        "X"
      ],
      "metadata": {
        "colab": {
          "base_uri": "https://localhost:8080/",
          "height": 488
        },
        "id": "rnNBNYyNVzfk",
        "outputId": "a6fb71c6-bd5e-483e-f394-3e7fdb7f5977"
      },
      "execution_count": null,
      "outputs": [
        {
          "output_type": "execute_result",
          "data": {
            "text/plain": [
              "     Age Sex ChestPainType  RestingBP  Cholesterol  FastingBS RestingECG  \\\n",
              "0     40   M           ATA        140          289          0     Normal   \n",
              "1     49   F           NAP        160          180          0     Normal   \n",
              "2     37   M           ATA        130          283          0         ST   \n",
              "3     48   F           ASY        138          214          0     Normal   \n",
              "4     54   M           NAP        150          195          0     Normal   \n",
              "..   ...  ..           ...        ...          ...        ...        ...   \n",
              "913   45   M            TA        110          264          0     Normal   \n",
              "914   68   M           ASY        144          193          1     Normal   \n",
              "915   57   M           ASY        130          131          0     Normal   \n",
              "916   57   F           ATA        130          236          0        LVH   \n",
              "917   38   M           NAP        138          175          0     Normal   \n",
              "\n",
              "     MaxHR ExerciseAngina  Oldpeak ST_Slope  \n",
              "0      172              N      0.0       Up  \n",
              "1      156              N      1.0     Flat  \n",
              "2       98              N      0.0       Up  \n",
              "3      108              Y      1.5     Flat  \n",
              "4      122              N      0.0       Up  \n",
              "..     ...            ...      ...      ...  \n",
              "913    132              N      1.2     Flat  \n",
              "914    141              N      3.4     Flat  \n",
              "915    115              Y      1.2     Flat  \n",
              "916    174              N      0.0     Flat  \n",
              "917    173              N      0.0       Up  \n",
              "\n",
              "[918 rows x 11 columns]"
            ],
            "text/html": [
              "\n",
              "  <div id=\"df-e032c7b6-b027-4869-b02d-9a1bf586b5a8\">\n",
              "    <div class=\"colab-df-container\">\n",
              "      <div>\n",
              "<style scoped>\n",
              "    .dataframe tbody tr th:only-of-type {\n",
              "        vertical-align: middle;\n",
              "    }\n",
              "\n",
              "    .dataframe tbody tr th {\n",
              "        vertical-align: top;\n",
              "    }\n",
              "\n",
              "    .dataframe thead th {\n",
              "        text-align: right;\n",
              "    }\n",
              "</style>\n",
              "<table border=\"1\" class=\"dataframe\">\n",
              "  <thead>\n",
              "    <tr style=\"text-align: right;\">\n",
              "      <th></th>\n",
              "      <th>Age</th>\n",
              "      <th>Sex</th>\n",
              "      <th>ChestPainType</th>\n",
              "      <th>RestingBP</th>\n",
              "      <th>Cholesterol</th>\n",
              "      <th>FastingBS</th>\n",
              "      <th>RestingECG</th>\n",
              "      <th>MaxHR</th>\n",
              "      <th>ExerciseAngina</th>\n",
              "      <th>Oldpeak</th>\n",
              "      <th>ST_Slope</th>\n",
              "    </tr>\n",
              "  </thead>\n",
              "  <tbody>\n",
              "    <tr>\n",
              "      <th>0</th>\n",
              "      <td>40</td>\n",
              "      <td>M</td>\n",
              "      <td>ATA</td>\n",
              "      <td>140</td>\n",
              "      <td>289</td>\n",
              "      <td>0</td>\n",
              "      <td>Normal</td>\n",
              "      <td>172</td>\n",
              "      <td>N</td>\n",
              "      <td>0.0</td>\n",
              "      <td>Up</td>\n",
              "    </tr>\n",
              "    <tr>\n",
              "      <th>1</th>\n",
              "      <td>49</td>\n",
              "      <td>F</td>\n",
              "      <td>NAP</td>\n",
              "      <td>160</td>\n",
              "      <td>180</td>\n",
              "      <td>0</td>\n",
              "      <td>Normal</td>\n",
              "      <td>156</td>\n",
              "      <td>N</td>\n",
              "      <td>1.0</td>\n",
              "      <td>Flat</td>\n",
              "    </tr>\n",
              "    <tr>\n",
              "      <th>2</th>\n",
              "      <td>37</td>\n",
              "      <td>M</td>\n",
              "      <td>ATA</td>\n",
              "      <td>130</td>\n",
              "      <td>283</td>\n",
              "      <td>0</td>\n",
              "      <td>ST</td>\n",
              "      <td>98</td>\n",
              "      <td>N</td>\n",
              "      <td>0.0</td>\n",
              "      <td>Up</td>\n",
              "    </tr>\n",
              "    <tr>\n",
              "      <th>3</th>\n",
              "      <td>48</td>\n",
              "      <td>F</td>\n",
              "      <td>ASY</td>\n",
              "      <td>138</td>\n",
              "      <td>214</td>\n",
              "      <td>0</td>\n",
              "      <td>Normal</td>\n",
              "      <td>108</td>\n",
              "      <td>Y</td>\n",
              "      <td>1.5</td>\n",
              "      <td>Flat</td>\n",
              "    </tr>\n",
              "    <tr>\n",
              "      <th>4</th>\n",
              "      <td>54</td>\n",
              "      <td>M</td>\n",
              "      <td>NAP</td>\n",
              "      <td>150</td>\n",
              "      <td>195</td>\n",
              "      <td>0</td>\n",
              "      <td>Normal</td>\n",
              "      <td>122</td>\n",
              "      <td>N</td>\n",
              "      <td>0.0</td>\n",
              "      <td>Up</td>\n",
              "    </tr>\n",
              "    <tr>\n",
              "      <th>...</th>\n",
              "      <td>...</td>\n",
              "      <td>...</td>\n",
              "      <td>...</td>\n",
              "      <td>...</td>\n",
              "      <td>...</td>\n",
              "      <td>...</td>\n",
              "      <td>...</td>\n",
              "      <td>...</td>\n",
              "      <td>...</td>\n",
              "      <td>...</td>\n",
              "      <td>...</td>\n",
              "    </tr>\n",
              "    <tr>\n",
              "      <th>913</th>\n",
              "      <td>45</td>\n",
              "      <td>M</td>\n",
              "      <td>TA</td>\n",
              "      <td>110</td>\n",
              "      <td>264</td>\n",
              "      <td>0</td>\n",
              "      <td>Normal</td>\n",
              "      <td>132</td>\n",
              "      <td>N</td>\n",
              "      <td>1.2</td>\n",
              "      <td>Flat</td>\n",
              "    </tr>\n",
              "    <tr>\n",
              "      <th>914</th>\n",
              "      <td>68</td>\n",
              "      <td>M</td>\n",
              "      <td>ASY</td>\n",
              "      <td>144</td>\n",
              "      <td>193</td>\n",
              "      <td>1</td>\n",
              "      <td>Normal</td>\n",
              "      <td>141</td>\n",
              "      <td>N</td>\n",
              "      <td>3.4</td>\n",
              "      <td>Flat</td>\n",
              "    </tr>\n",
              "    <tr>\n",
              "      <th>915</th>\n",
              "      <td>57</td>\n",
              "      <td>M</td>\n",
              "      <td>ASY</td>\n",
              "      <td>130</td>\n",
              "      <td>131</td>\n",
              "      <td>0</td>\n",
              "      <td>Normal</td>\n",
              "      <td>115</td>\n",
              "      <td>Y</td>\n",
              "      <td>1.2</td>\n",
              "      <td>Flat</td>\n",
              "    </tr>\n",
              "    <tr>\n",
              "      <th>916</th>\n",
              "      <td>57</td>\n",
              "      <td>F</td>\n",
              "      <td>ATA</td>\n",
              "      <td>130</td>\n",
              "      <td>236</td>\n",
              "      <td>0</td>\n",
              "      <td>LVH</td>\n",
              "      <td>174</td>\n",
              "      <td>N</td>\n",
              "      <td>0.0</td>\n",
              "      <td>Flat</td>\n",
              "    </tr>\n",
              "    <tr>\n",
              "      <th>917</th>\n",
              "      <td>38</td>\n",
              "      <td>M</td>\n",
              "      <td>NAP</td>\n",
              "      <td>138</td>\n",
              "      <td>175</td>\n",
              "      <td>0</td>\n",
              "      <td>Normal</td>\n",
              "      <td>173</td>\n",
              "      <td>N</td>\n",
              "      <td>0.0</td>\n",
              "      <td>Up</td>\n",
              "    </tr>\n",
              "  </tbody>\n",
              "</table>\n",
              "<p>918 rows × 11 columns</p>\n",
              "</div>\n",
              "      <button class=\"colab-df-convert\" onclick=\"convertToInteractive('df-e032c7b6-b027-4869-b02d-9a1bf586b5a8')\"\n",
              "              title=\"Convert this dataframe to an interactive table.\"\n",
              "              style=\"display:none;\">\n",
              "        \n",
              "  <svg xmlns=\"http://www.w3.org/2000/svg\" height=\"24px\"viewBox=\"0 0 24 24\"\n",
              "       width=\"24px\">\n",
              "    <path d=\"M0 0h24v24H0V0z\" fill=\"none\"/>\n",
              "    <path d=\"M18.56 5.44l.94 2.06.94-2.06 2.06-.94-2.06-.94-.94-2.06-.94 2.06-2.06.94zm-11 1L8.5 8.5l.94-2.06 2.06-.94-2.06-.94L8.5 2.5l-.94 2.06-2.06.94zm10 10l.94 2.06.94-2.06 2.06-.94-2.06-.94-.94-2.06-.94 2.06-2.06.94z\"/><path d=\"M17.41 7.96l-1.37-1.37c-.4-.4-.92-.59-1.43-.59-.52 0-1.04.2-1.43.59L10.3 9.45l-7.72 7.72c-.78.78-.78 2.05 0 2.83L4 21.41c.39.39.9.59 1.41.59.51 0 1.02-.2 1.41-.59l7.78-7.78 2.81-2.81c.8-.78.8-2.07 0-2.86zM5.41 20L4 18.59l7.72-7.72 1.47 1.35L5.41 20z\"/>\n",
              "  </svg>\n",
              "      </button>\n",
              "      \n",
              "  <style>\n",
              "    .colab-df-container {\n",
              "      display:flex;\n",
              "      flex-wrap:wrap;\n",
              "      gap: 12px;\n",
              "    }\n",
              "\n",
              "    .colab-df-convert {\n",
              "      background-color: #E8F0FE;\n",
              "      border: none;\n",
              "      border-radius: 50%;\n",
              "      cursor: pointer;\n",
              "      display: none;\n",
              "      fill: #1967D2;\n",
              "      height: 32px;\n",
              "      padding: 0 0 0 0;\n",
              "      width: 32px;\n",
              "    }\n",
              "\n",
              "    .colab-df-convert:hover {\n",
              "      background-color: #E2EBFA;\n",
              "      box-shadow: 0px 1px 2px rgba(60, 64, 67, 0.3), 0px 1px 3px 1px rgba(60, 64, 67, 0.15);\n",
              "      fill: #174EA6;\n",
              "    }\n",
              "\n",
              "    [theme=dark] .colab-df-convert {\n",
              "      background-color: #3B4455;\n",
              "      fill: #D2E3FC;\n",
              "    }\n",
              "\n",
              "    [theme=dark] .colab-df-convert:hover {\n",
              "      background-color: #434B5C;\n",
              "      box-shadow: 0px 1px 3px 1px rgba(0, 0, 0, 0.15);\n",
              "      filter: drop-shadow(0px 1px 2px rgba(0, 0, 0, 0.3));\n",
              "      fill: #FFFFFF;\n",
              "    }\n",
              "  </style>\n",
              "\n",
              "      <script>\n",
              "        const buttonEl =\n",
              "          document.querySelector('#df-e032c7b6-b027-4869-b02d-9a1bf586b5a8 button.colab-df-convert');\n",
              "        buttonEl.style.display =\n",
              "          google.colab.kernel.accessAllowed ? 'block' : 'none';\n",
              "\n",
              "        async function convertToInteractive(key) {\n",
              "          const element = document.querySelector('#df-e032c7b6-b027-4869-b02d-9a1bf586b5a8');\n",
              "          const dataTable =\n",
              "            await google.colab.kernel.invokeFunction('convertToInteractive',\n",
              "                                                     [key], {});\n",
              "          if (!dataTable) return;\n",
              "\n",
              "          const docLinkHtml = 'Like what you see? Visit the ' +\n",
              "            '<a target=\"_blank\" href=https://colab.research.google.com/notebooks/data_table.ipynb>data table notebook</a>'\n",
              "            + ' to learn more about interactive tables.';\n",
              "          element.innerHTML = '';\n",
              "          dataTable['output_type'] = 'display_data';\n",
              "          await google.colab.output.renderOutput(dataTable, element);\n",
              "          const docLink = document.createElement('div');\n",
              "          docLink.innerHTML = docLinkHtml;\n",
              "          element.appendChild(docLink);\n",
              "        }\n",
              "      </script>\n",
              "    </div>\n",
              "  </div>\n",
              "  "
            ]
          },
          "metadata": {},
          "execution_count": 126
        }
      ]
    },
    {
      "cell_type": "code",
      "source": [
        "# Encoding categorical features\n",
        "## I use the Label encoder because it's will not add more columns to the dataset and more simple to run\n",
        "\n",
        "le = LabelEncoder()\n",
        "cols = X.columns.tolist()\n",
        "for column in cols:\n",
        "    if X[column].dtype == 'object':\n",
        "        X[column] = le.fit_transform(X[column])"
      ],
      "metadata": {
        "id": "pzlL1MQ9KxBx"
      },
      "execution_count": null,
      "outputs": []
    },
    {
      "cell_type": "code",
      "source": [
        "# Splitting the data to training and testing\n",
        "X_train, X_test, y_train, y_test = train_test_split(X, y, test_size = 0.2, random_state = 0)"
      ],
      "metadata": {
        "id": "RG_A_biwKlzb"
      },
      "execution_count": null,
      "outputs": []
    },
    {
      "cell_type": "code",
      "source": [
        "# Feature scaling\n",
        "sc = StandardScaler()\n",
        "X_train = sc.fit_transform(X_train)\n",
        "X_test = sc.transform(X_test)"
      ],
      "metadata": {
        "id": "dKQgwenaK0x4"
      },
      "execution_count": null,
      "outputs": []
    },
    {
      "cell_type": "markdown",
      "source": [
        "# **Neural Network Models**"
      ],
      "metadata": {
        "id": "a44qYYoJOj_9"
      }
    },
    {
      "cell_type": "code",
      "source": [
        "### Initializing the ANN\n",
        "\n",
        "ann1 = tf.keras.models.Sequential()\n",
        "ann2 = tf.keras.models.Sequential()\n",
        "ann3 = tf.keras.models.Sequential()\n",
        "ann4 = tf.keras.models.Sequential()"
      ],
      "metadata": {
        "id": "oDQUnqLLOhxl"
      },
      "execution_count": null,
      "outputs": []
    },
    {
      "cell_type": "markdown",
      "source": [
        "### Neural Network Layers\n"
      ],
      "metadata": {
        "id": "IqsQ_XSnyxno"
      }
    },
    {
      "cell_type": "code",
      "source": [
        "#First Model\n",
        "## the hidden layers for the first ANN1 model (4 layers)\n",
        "ann1.add(tf.keras.layers.Dense(units=14, activation='relu'))\n",
        "ann1.add(tf.keras.layers.Dense(units=14, activation='tanh'))\n",
        "ann1.add(tf.keras.layers.Dense(units=12, activation='relu'))\n",
        "ann1.add(tf.keras.layers.Dense(units=10, activation='relu'))\n",
        "ann1.add(tf.keras.layers.Dense(units=1, activation='sigmoid'))\n"
      ],
      "metadata": {
        "id": "UxOSburD-Ka-"
      },
      "execution_count": null,
      "outputs": []
    },
    {
      "cell_type": "code",
      "source": [
        "#output layer for the first ANN model\n",
        "ann1.add(tf.keras.layers.Dense(units=1, activation='sigmoid'))\n"
      ],
      "metadata": {
        "id": "uDgNNKLC_RwH"
      },
      "execution_count": null,
      "outputs": []
    },
    {
      "cell_type": "code",
      "source": [
        "#Second Model\n",
        "#Four hidden layers with TanH, RelU \n",
        "ann2.add(tf.keras.layers.Dense(units=4, activation='tanh'))\n",
        "ann2.add(tf.keras.layers.Dense(units=4, activation='relu'))\n",
        "ann2.add(tf.keras.layers.Dense(units=4, activation='tanh'))\n",
        "ann2.add(tf.keras.layers.Dense(units=4, activation='relu'))\n"
      ],
      "metadata": {
        "id": "hO5N-EwOywz3"
      },
      "execution_count": null,
      "outputs": []
    },
    {
      "cell_type": "code",
      "source": [
        "## output layer for the Second ANN2 model\n",
        "ann2.add(tf.keras.layers.Dense(units=1, activation='sigmoid'))"
      ],
      "metadata": {
        "id": "ei7juX2h_oKB"
      },
      "execution_count": null,
      "outputs": []
    },
    {
      "cell_type": "code",
      "source": [
        "#Third Model\n",
        "## the hidden layers for the Third ANN3 model (3 layers)\n",
        "ann3.add(tf.keras.layers.Dense(units=12, activation='relu'))\n",
        "ann3.add(tf.keras.layers.Dense(units=6, activation='relu'))\n",
        "ann3.add(tf.keras.layers.Dense(units=4, activation='relu'))"
      ],
      "metadata": {
        "id": "vNBJ0SzvHpaA"
      },
      "execution_count": null,
      "outputs": []
    },
    {
      "cell_type": "code",
      "source": [
        "## output layer for the Third ANN3 model\n",
        "ann3.add(tf.keras.layers.Dense(units=1, activation='sigmoid'))"
      ],
      "metadata": {
        "id": "Z4uW95ywHpmb"
      },
      "execution_count": null,
      "outputs": []
    },
    {
      "cell_type": "code",
      "source": [
        "#Fourth Model  \n",
        "## the hidden layers for the Fourth ANN4 model (3 layers)\n",
        "\n",
        "ann4.add(tf.keras.layers.Dense(units=6, activation='relu'))\n",
        "ann4.add(tf.keras.layers.Dense(units=4, activation='relu'))\n",
        "ann4.add(tf.keras.layers.Dense(units=4, activation='relu'))"
      ],
      "metadata": {
        "id": "Nyp9CCG6_3bm"
      },
      "execution_count": null,
      "outputs": []
    },
    {
      "cell_type": "code",
      "source": [
        "## output layer for the Fourth ANN4 model\n",
        "ann4.add(tf.keras.layers.Dense(units=1, activation='sigmoid'))\n"
      ],
      "metadata": {
        "id": "gOiIv8fxEhue"
      },
      "execution_count": null,
      "outputs": []
    },
    {
      "cell_type": "markdown",
      "source": [
        "# Compile the ANN Models\n"
      ],
      "metadata": {
        "id": "rNydSrFr3jq5"
      }
    },
    {
      "cell_type": "code",
      "source": [
        "# Compile the ANN1 model\n",
        "ann1.compile(optimizer = 'adam', loss = 'binary_crossentropy', metrics = ['accuracy',\n",
        "                                                                          metrics.Precision(),\n",
        "                                                                         metrics.Recall()])\n",
        "# Compile the ANN2 model\n",
        "ann2.compile(optimizer = 'adam', loss = 'binary_crossentropy', metrics = ['accuracy',\n",
        "                                                                          metrics.Precision(),\n",
        "                                                                         metrics.Recall()])\n",
        "# Compile the ANN3 model\n",
        "ann3.compile(optimizer = 'adam', loss = 'binary_crossentropy', metrics = ['accuracy',\n",
        "                                                                          metrics.Precision(),\n",
        "                                                                         metrics.Recall()])\n",
        "# Compile the ANN4 model\n",
        "ann4.compile(optimizer = 'adam', loss = 'binary_crossentropy', metrics = ['accuracy',\n",
        "                                                                          metrics.Precision(),\n",
        "                                                                         metrics.Recall()])"
      ],
      "metadata": {
        "id": "7S62Ur4x3fpX"
      },
      "execution_count": null,
      "outputs": []
    },
    {
      "cell_type": "markdown",
      "source": [
        "# Fit the Models \n"
      ],
      "metadata": {
        "id": "5XVn_HOv5dLL"
      }
    },
    {
      "cell_type": "code",
      "source": [
        "## fitting the first ANN model\n",
        "\n",
        "history1 = ann1.fit(X_train, y_train.values, batch_size = 16, epochs = 100)\n"
      ],
      "metadata": {
        "id": "4hLIF4xPAHsh",
        "colab": {
          "base_uri": "https://localhost:8080/"
        },
        "outputId": "0be4f6cf-a642-4190-d803-26eb559fb7c1"
      },
      "execution_count": null,
      "outputs": [
        {
          "output_type": "stream",
          "name": "stdout",
          "text": [
            "Epoch 1/100\n",
            "46/46 [==============================] - 1s 3ms/step - loss: 0.6891 - accuracy: 0.5463 - precision_1: 0.5463 - recall_1: 1.0000\n",
            "Epoch 2/100\n",
            "46/46 [==============================] - 0s 4ms/step - loss: 0.6819 - accuracy: 0.5463 - precision_1: 0.5463 - recall_1: 1.0000\n",
            "Epoch 3/100\n",
            "46/46 [==============================] - 0s 4ms/step - loss: 0.6693 - accuracy: 0.5463 - precision_1: 0.5463 - recall_1: 1.0000\n",
            "Epoch 4/100\n",
            "46/46 [==============================] - 0s 3ms/step - loss: 0.6531 - accuracy: 0.5463 - precision_1: 0.5463 - recall_1: 1.0000\n",
            "Epoch 5/100\n",
            "46/46 [==============================] - 0s 3ms/step - loss: 0.6396 - accuracy: 0.5463 - precision_1: 0.5463 - recall_1: 1.0000\n",
            "Epoch 6/100\n",
            "46/46 [==============================] - 0s 3ms/step - loss: 0.6294 - accuracy: 0.5463 - precision_1: 0.5463 - recall_1: 1.0000\n",
            "Epoch 7/100\n",
            "46/46 [==============================] - 0s 3ms/step - loss: 0.6211 - accuracy: 0.5463 - precision_1: 0.5463 - recall_1: 1.0000\n",
            "Epoch 8/100\n",
            "46/46 [==============================] - 0s 3ms/step - loss: 0.6128 - accuracy: 0.5463 - precision_1: 0.5463 - recall_1: 1.0000\n",
            "Epoch 9/100\n",
            "46/46 [==============================] - 0s 3ms/step - loss: 0.6053 - accuracy: 0.5858 - precision_1: 0.5692 - recall_1: 0.9950\n",
            "Epoch 10/100\n",
            "46/46 [==============================] - 0s 3ms/step - loss: 0.5983 - accuracy: 0.8474 - precision_1: 0.8148 - recall_1: 0.9327\n",
            "Epoch 11/100\n",
            "46/46 [==============================] - 0s 3ms/step - loss: 0.5915 - accuracy: 0.8460 - precision_1: 0.8243 - recall_1: 0.9127\n",
            "Epoch 12/100\n",
            "46/46 [==============================] - 0s 3ms/step - loss: 0.5847 - accuracy: 0.8665 - precision_1: 0.8582 - recall_1: 0.9052\n",
            "Epoch 13/100\n",
            "46/46 [==============================] - 0s 3ms/step - loss: 0.5785 - accuracy: 0.8706 - precision_1: 0.8660 - recall_1: 0.9027\n",
            "Epoch 14/100\n",
            "46/46 [==============================] - 0s 3ms/step - loss: 0.5723 - accuracy: 0.8733 - precision_1: 0.8720 - recall_1: 0.9002\n",
            "Epoch 15/100\n",
            "46/46 [==============================] - 0s 3ms/step - loss: 0.5655 - accuracy: 0.8787 - precision_1: 0.8786 - recall_1: 0.9027\n",
            "Epoch 16/100\n",
            "46/46 [==============================] - 0s 3ms/step - loss: 0.5598 - accuracy: 0.8815 - precision_1: 0.8829 - recall_1: 0.9027\n",
            "Epoch 17/100\n",
            "46/46 [==============================] - 0s 3ms/step - loss: 0.5535 - accuracy: 0.8801 - precision_1: 0.8845 - recall_1: 0.8978\n",
            "Epoch 18/100\n",
            "46/46 [==============================] - 0s 3ms/step - loss: 0.5480 - accuracy: 0.8842 - precision_1: 0.8911 - recall_1: 0.8978\n",
            "Epoch 19/100\n",
            "46/46 [==============================] - 0s 3ms/step - loss: 0.5436 - accuracy: 0.8815 - precision_1: 0.8867 - recall_1: 0.8978\n",
            "Epoch 20/100\n",
            "46/46 [==============================] - 0s 3ms/step - loss: 0.5367 - accuracy: 0.8869 - precision_1: 0.8955 - recall_1: 0.8978\n",
            "Epoch 21/100\n",
            "46/46 [==============================] - 0s 3ms/step - loss: 0.5315 - accuracy: 0.8883 - precision_1: 0.8978 - recall_1: 0.8978\n",
            "Epoch 22/100\n",
            "46/46 [==============================] - 0s 3ms/step - loss: 0.5263 - accuracy: 0.8910 - precision_1: 0.9023 - recall_1: 0.8978\n",
            "Epoch 23/100\n",
            "46/46 [==============================] - 0s 3ms/step - loss: 0.5213 - accuracy: 0.8924 - precision_1: 0.9045 - recall_1: 0.8978\n",
            "Epoch 24/100\n",
            "46/46 [==============================] - 0s 3ms/step - loss: 0.5163 - accuracy: 0.8937 - precision_1: 0.9068 - recall_1: 0.8978\n",
            "Epoch 25/100\n",
            "46/46 [==============================] - 0s 3ms/step - loss: 0.5117 - accuracy: 0.8937 - precision_1: 0.9068 - recall_1: 0.8978\n",
            "Epoch 26/100\n",
            "46/46 [==============================] - 0s 3ms/step - loss: 0.5072 - accuracy: 0.8924 - precision_1: 0.9066 - recall_1: 0.8953\n",
            "Epoch 27/100\n",
            "46/46 [==============================] - 0s 3ms/step - loss: 0.5022 - accuracy: 0.8951 - precision_1: 0.9091 - recall_1: 0.8978\n",
            "Epoch 28/100\n",
            "46/46 [==============================] - 0s 3ms/step - loss: 0.4980 - accuracy: 0.8910 - precision_1: 0.9023 - recall_1: 0.8978\n",
            "Epoch 29/100\n",
            "46/46 [==============================] - 0s 3ms/step - loss: 0.4941 - accuracy: 0.8937 - precision_1: 0.9048 - recall_1: 0.9002\n",
            "Epoch 30/100\n",
            "46/46 [==============================] - 0s 3ms/step - loss: 0.4912 - accuracy: 0.8951 - precision_1: 0.9050 - recall_1: 0.9027\n",
            "Epoch 31/100\n",
            "46/46 [==============================] - 0s 3ms/step - loss: 0.4857 - accuracy: 0.8951 - precision_1: 0.9070 - recall_1: 0.9002\n",
            "Epoch 32/100\n",
            "46/46 [==============================] - 0s 3ms/step - loss: 0.4818 - accuracy: 0.8937 - precision_1: 0.9068 - recall_1: 0.8978\n",
            "Epoch 33/100\n",
            "46/46 [==============================] - 0s 3ms/step - loss: 0.4774 - accuracy: 0.8965 - precision_1: 0.9093 - recall_1: 0.9002\n",
            "Epoch 34/100\n",
            "46/46 [==============================] - 0s 3ms/step - loss: 0.4734 - accuracy: 0.8965 - precision_1: 0.9093 - recall_1: 0.9002\n",
            "Epoch 35/100\n",
            "46/46 [==============================] - 0s 3ms/step - loss: 0.4705 - accuracy: 0.8951 - precision_1: 0.9070 - recall_1: 0.9002\n",
            "Epoch 36/100\n",
            "46/46 [==============================] - 0s 3ms/step - loss: 0.4670 - accuracy: 0.8937 - precision_1: 0.9068 - recall_1: 0.8978\n",
            "Epoch 37/100\n",
            "46/46 [==============================] - 0s 3ms/step - loss: 0.4644 - accuracy: 0.8937 - precision_1: 0.9048 - recall_1: 0.9002\n",
            "Epoch 38/100\n",
            "46/46 [==============================] - 0s 3ms/step - loss: 0.4602 - accuracy: 0.8951 - precision_1: 0.9050 - recall_1: 0.9027\n",
            "Epoch 39/100\n",
            "46/46 [==============================] - 0s 3ms/step - loss: 0.4569 - accuracy: 0.8937 - precision_1: 0.9068 - recall_1: 0.8978\n",
            "Epoch 40/100\n",
            "46/46 [==============================] - 0s 3ms/step - loss: 0.4531 - accuracy: 0.8951 - precision_1: 0.9070 - recall_1: 0.9002\n",
            "Epoch 41/100\n",
            "46/46 [==============================] - 0s 3ms/step - loss: 0.4500 - accuracy: 0.8951 - precision_1: 0.9070 - recall_1: 0.9002\n",
            "Epoch 42/100\n",
            "46/46 [==============================] - 0s 3ms/step - loss: 0.4470 - accuracy: 0.8951 - precision_1: 0.9070 - recall_1: 0.9002\n",
            "Epoch 43/100\n",
            "46/46 [==============================] - 0s 4ms/step - loss: 0.4458 - accuracy: 0.8937 - precision_1: 0.9068 - recall_1: 0.8978\n",
            "Epoch 44/100\n",
            "46/46 [==============================] - 0s 3ms/step - loss: 0.4417 - accuracy: 0.8951 - precision_1: 0.9050 - recall_1: 0.9027\n",
            "Epoch 45/100\n",
            "46/46 [==============================] - 0s 3ms/step - loss: 0.4382 - accuracy: 0.8965 - precision_1: 0.9073 - recall_1: 0.9027\n",
            "Epoch 46/100\n",
            "46/46 [==============================] - 0s 3ms/step - loss: 0.4353 - accuracy: 0.8951 - precision_1: 0.9050 - recall_1: 0.9027\n",
            "Epoch 47/100\n",
            "46/46 [==============================] - 0s 3ms/step - loss: 0.4382 - accuracy: 0.8883 - precision_1: 0.9059 - recall_1: 0.8878\n",
            "Epoch 48/100\n",
            "46/46 [==============================] - 0s 3ms/step - loss: 0.4348 - accuracy: 0.8869 - precision_1: 0.9056 - recall_1: 0.8853\n",
            "Epoch 49/100\n",
            "46/46 [==============================] - 0s 3ms/step - loss: 0.4260 - accuracy: 0.8937 - precision_1: 0.9068 - recall_1: 0.8978\n",
            "Epoch 50/100\n",
            "46/46 [==============================] - 0s 3ms/step - loss: 0.4232 - accuracy: 0.8951 - precision_1: 0.9091 - recall_1: 0.8978\n",
            "Epoch 51/100\n",
            "46/46 [==============================] - 0s 3ms/step - loss: 0.4211 - accuracy: 0.8951 - precision_1: 0.9133 - recall_1: 0.8928\n",
            "Epoch 52/100\n",
            "46/46 [==============================] - 0s 3ms/step - loss: 0.4176 - accuracy: 0.8978 - precision_1: 0.9137 - recall_1: 0.8978\n",
            "Epoch 53/100\n",
            "46/46 [==============================] - 0s 3ms/step - loss: 0.4153 - accuracy: 0.8978 - precision_1: 0.9116 - recall_1: 0.9002\n",
            "Epoch 54/100\n",
            "46/46 [==============================] - 0s 3ms/step - loss: 0.4122 - accuracy: 0.8978 - precision_1: 0.9137 - recall_1: 0.8978\n",
            "Epoch 55/100\n",
            "46/46 [==============================] - 0s 3ms/step - loss: 0.4100 - accuracy: 0.8978 - precision_1: 0.9137 - recall_1: 0.8978\n",
            "Epoch 56/100\n",
            "46/46 [==============================] - 0s 3ms/step - loss: 0.4080 - accuracy: 0.8965 - precision_1: 0.9114 - recall_1: 0.8978\n",
            "Epoch 57/100\n",
            "46/46 [==============================] - 0s 3ms/step - loss: 0.4061 - accuracy: 0.8965 - precision_1: 0.9135 - recall_1: 0.8953\n",
            "Epoch 58/100\n",
            "46/46 [==============================] - 0s 3ms/step - loss: 0.4037 - accuracy: 0.8965 - precision_1: 0.9114 - recall_1: 0.8978\n",
            "Epoch 59/100\n",
            "46/46 [==============================] - 0s 3ms/step - loss: 0.4013 - accuracy: 0.8978 - precision_1: 0.9137 - recall_1: 0.8978\n",
            "Epoch 60/100\n",
            "46/46 [==============================] - 0s 3ms/step - loss: 0.4000 - accuracy: 0.8965 - precision_1: 0.9114 - recall_1: 0.8978\n",
            "Epoch 61/100\n",
            "46/46 [==============================] - 0s 3ms/step - loss: 0.3985 - accuracy: 0.8965 - precision_1: 0.9135 - recall_1: 0.8953\n",
            "Epoch 62/100\n",
            "46/46 [==============================] - 0s 3ms/step - loss: 0.3971 - accuracy: 0.8965 - precision_1: 0.9114 - recall_1: 0.8978\n",
            "Epoch 63/100\n",
            "46/46 [==============================] - 0s 3ms/step - loss: 0.3933 - accuracy: 0.8978 - precision_1: 0.9137 - recall_1: 0.8978\n",
            "Epoch 64/100\n",
            "46/46 [==============================] - 0s 3ms/step - loss: 0.3918 - accuracy: 0.8965 - precision_1: 0.9114 - recall_1: 0.8978\n",
            "Epoch 65/100\n",
            "46/46 [==============================] - 0s 3ms/step - loss: 0.3924 - accuracy: 0.8951 - precision_1: 0.9070 - recall_1: 0.9002\n",
            "Epoch 66/100\n",
            "46/46 [==============================] - 0s 3ms/step - loss: 0.3882 - accuracy: 0.8978 - precision_1: 0.9137 - recall_1: 0.8978\n",
            "Epoch 67/100\n",
            "46/46 [==============================] - 0s 3ms/step - loss: 0.3897 - accuracy: 0.8937 - precision_1: 0.9068 - recall_1: 0.8978\n",
            "Epoch 68/100\n",
            "46/46 [==============================] - 0s 3ms/step - loss: 0.3842 - accuracy: 0.8978 - precision_1: 0.9095 - recall_1: 0.9027\n",
            "Epoch 69/100\n",
            "46/46 [==============================] - 0s 3ms/step - loss: 0.3843 - accuracy: 0.8978 - precision_1: 0.9095 - recall_1: 0.9027\n",
            "Epoch 70/100\n",
            "46/46 [==============================] - 0s 3ms/step - loss: 0.3827 - accuracy: 0.8965 - precision_1: 0.9114 - recall_1: 0.8978\n",
            "Epoch 71/100\n",
            "46/46 [==============================] - 0s 3ms/step - loss: 0.3793 - accuracy: 0.8978 - precision_1: 0.9116 - recall_1: 0.9002\n",
            "Epoch 72/100\n",
            "46/46 [==============================] - 0s 3ms/step - loss: 0.3765 - accuracy: 0.8992 - precision_1: 0.9118 - recall_1: 0.9027\n",
            "Epoch 73/100\n",
            "46/46 [==============================] - 0s 3ms/step - loss: 0.3754 - accuracy: 0.8992 - precision_1: 0.9139 - recall_1: 0.9002\n",
            "Epoch 74/100\n",
            "46/46 [==============================] - 0s 3ms/step - loss: 0.3759 - accuracy: 0.8978 - precision_1: 0.9116 - recall_1: 0.9002\n",
            "Epoch 75/100\n",
            "46/46 [==============================] - 0s 3ms/step - loss: 0.3731 - accuracy: 0.8992 - precision_1: 0.9118 - recall_1: 0.9027\n",
            "Epoch 76/100\n",
            "46/46 [==============================] - 0s 3ms/step - loss: 0.3712 - accuracy: 0.8978 - precision_1: 0.9116 - recall_1: 0.9002\n",
            "Epoch 77/100\n",
            "46/46 [==============================] - 0s 3ms/step - loss: 0.3724 - accuracy: 0.8965 - precision_1: 0.9114 - recall_1: 0.8978\n",
            "Epoch 78/100\n",
            "46/46 [==============================] - 0s 3ms/step - loss: 0.3690 - accuracy: 0.8992 - precision_1: 0.9118 - recall_1: 0.9027\n",
            "Epoch 79/100\n",
            "46/46 [==============================] - 0s 3ms/step - loss: 0.3673 - accuracy: 0.8992 - precision_1: 0.9118 - recall_1: 0.9027\n",
            "Epoch 80/100\n",
            "46/46 [==============================] - 0s 3ms/step - loss: 0.3696 - accuracy: 0.8951 - precision_1: 0.9133 - recall_1: 0.8928\n",
            "Epoch 81/100\n",
            "46/46 [==============================] - 0s 3ms/step - loss: 0.3673 - accuracy: 0.8992 - precision_1: 0.9098 - recall_1: 0.9052\n",
            "Epoch 82/100\n",
            "46/46 [==============================] - 0s 3ms/step - loss: 0.3628 - accuracy: 0.8992 - precision_1: 0.9139 - recall_1: 0.9002\n",
            "Epoch 83/100\n",
            "46/46 [==============================] - 0s 3ms/step - loss: 0.3604 - accuracy: 0.9005 - precision_1: 0.9141 - recall_1: 0.9027\n",
            "Epoch 84/100\n",
            "46/46 [==============================] - 0s 3ms/step - loss: 0.3597 - accuracy: 0.9005 - precision_1: 0.9162 - recall_1: 0.9002\n",
            "Epoch 85/100\n",
            "46/46 [==============================] - 0s 3ms/step - loss: 0.3574 - accuracy: 0.9019 - precision_1: 0.9144 - recall_1: 0.9052\n",
            "Epoch 86/100\n",
            "46/46 [==============================] - 0s 3ms/step - loss: 0.3628 - accuracy: 0.8951 - precision_1: 0.9112 - recall_1: 0.8953\n",
            "Epoch 87/100\n",
            "46/46 [==============================] - 0s 3ms/step - loss: 0.3653 - accuracy: 0.8910 - precision_1: 0.9084 - recall_1: 0.8903\n",
            "Epoch 88/100\n",
            "46/46 [==============================] - 0s 3ms/step - loss: 0.3590 - accuracy: 0.8965 - precision_1: 0.9114 - recall_1: 0.8978\n",
            "Epoch 89/100\n",
            "46/46 [==============================] - 0s 3ms/step - loss: 0.3562 - accuracy: 0.8978 - precision_1: 0.9116 - recall_1: 0.9002\n",
            "Epoch 90/100\n",
            "46/46 [==============================] - 0s 3ms/step - loss: 0.3539 - accuracy: 0.9005 - precision_1: 0.9141 - recall_1: 0.9027\n",
            "Epoch 91/100\n",
            "46/46 [==============================] - 0s 3ms/step - loss: 0.3528 - accuracy: 0.8992 - precision_1: 0.9139 - recall_1: 0.9002\n",
            "Epoch 92/100\n",
            "46/46 [==============================] - 0s 3ms/step - loss: 0.3534 - accuracy: 0.8992 - precision_1: 0.9118 - recall_1: 0.9027\n",
            "Epoch 93/100\n",
            "46/46 [==============================] - 0s 3ms/step - loss: 0.3500 - accuracy: 0.9019 - precision_1: 0.9165 - recall_1: 0.9027\n",
            "Epoch 94/100\n",
            "46/46 [==============================] - 0s 3ms/step - loss: 0.3503 - accuracy: 0.9005 - precision_1: 0.9141 - recall_1: 0.9027\n",
            "Epoch 95/100\n",
            "46/46 [==============================] - 0s 3ms/step - loss: 0.3474 - accuracy: 0.9019 - precision_1: 0.9144 - recall_1: 0.9052\n",
            "Epoch 96/100\n",
            "46/46 [==============================] - 0s 3ms/step - loss: 0.3485 - accuracy: 0.9005 - precision_1: 0.9141 - recall_1: 0.9027\n",
            "Epoch 97/100\n",
            "46/46 [==============================] - 0s 3ms/step - loss: 0.3493 - accuracy: 0.8992 - precision_1: 0.9139 - recall_1: 0.9002\n",
            "Epoch 98/100\n",
            "46/46 [==============================] - 0s 3ms/step - loss: 0.3449 - accuracy: 0.9019 - precision_1: 0.9144 - recall_1: 0.9052\n",
            "Epoch 99/100\n",
            "46/46 [==============================] - 0s 3ms/step - loss: 0.3433 - accuracy: 0.9033 - precision_1: 0.9167 - recall_1: 0.9052\n",
            "Epoch 100/100\n",
            "46/46 [==============================] - 0s 3ms/step - loss: 0.3428 - accuracy: 0.9019 - precision_1: 0.9144 - recall_1: 0.9052\n"
          ]
        }
      ]
    },
    {
      "cell_type": "code",
      "source": [
        "## fitting the Second ANN2 model\n",
        "history2= ann2.fit(X_train, y_train.values, batch_size = 62, epochs = 100)"
      ],
      "metadata": {
        "id": "Xl4naYuH5isQ",
        "colab": {
          "base_uri": "https://localhost:8080/"
        },
        "outputId": "347d16f6-c4bd-475b-ab74-8edd2eb6c6df"
      },
      "execution_count": null,
      "outputs": [
        {
          "output_type": "stream",
          "name": "stdout",
          "text": [
            "Epoch 1/100\n",
            "12/12 [==============================] - 1s 3ms/step - loss: 0.6807 - accuracy: 0.6267\n",
            "Epoch 2/100\n",
            "12/12 [==============================] - 0s 2ms/step - loss: 0.6735 - accuracy: 0.6635\n",
            "Epoch 3/100\n",
            "12/12 [==============================] - 0s 3ms/step - loss: 0.6654 - accuracy: 0.6921\n",
            "Epoch 4/100\n",
            "12/12 [==============================] - 0s 3ms/step - loss: 0.6559 - accuracy: 0.7166\n",
            "Epoch 5/100\n",
            "12/12 [==============================] - 0s 3ms/step - loss: 0.6454 - accuracy: 0.7302\n",
            "Epoch 6/100\n",
            "12/12 [==============================] - 0s 3ms/step - loss: 0.6340 - accuracy: 0.7452\n",
            "Epoch 7/100\n",
            "12/12 [==============================] - 0s 3ms/step - loss: 0.6219 - accuracy: 0.7520\n",
            "Epoch 8/100\n",
            "12/12 [==============================] - 0s 3ms/step - loss: 0.6086 - accuracy: 0.7670\n",
            "Epoch 9/100\n",
            "12/12 [==============================] - 0s 4ms/step - loss: 0.5952 - accuracy: 0.7698\n",
            "Epoch 10/100\n",
            "12/12 [==============================] - 0s 3ms/step - loss: 0.5815 - accuracy: 0.7779\n",
            "Epoch 11/100\n",
            "12/12 [==============================] - 0s 4ms/step - loss: 0.5682 - accuracy: 0.7834\n",
            "Epoch 12/100\n",
            "12/12 [==============================] - 0s 3ms/step - loss: 0.5536 - accuracy: 0.7847\n",
            "Epoch 13/100\n",
            "12/12 [==============================] - 0s 3ms/step - loss: 0.5396 - accuracy: 0.7875\n",
            "Epoch 14/100\n",
            "12/12 [==============================] - 0s 3ms/step - loss: 0.5254 - accuracy: 0.7902\n",
            "Epoch 15/100\n",
            "12/12 [==============================] - 0s 3ms/step - loss: 0.5126 - accuracy: 0.7916\n",
            "Epoch 16/100\n",
            "12/12 [==============================] - 0s 3ms/step - loss: 0.5000 - accuracy: 0.7970\n",
            "Epoch 17/100\n",
            "12/12 [==============================] - 0s 3ms/step - loss: 0.4869 - accuracy: 0.8052\n",
            "Epoch 18/100\n",
            "12/12 [==============================] - 0s 3ms/step - loss: 0.4744 - accuracy: 0.8065\n",
            "Epoch 19/100\n",
            "12/12 [==============================] - 0s 4ms/step - loss: 0.4624 - accuracy: 0.8202\n",
            "Epoch 20/100\n",
            "12/12 [==============================] - 0s 4ms/step - loss: 0.4519 - accuracy: 0.8256\n",
            "Epoch 21/100\n",
            "12/12 [==============================] - 0s 3ms/step - loss: 0.4425 - accuracy: 0.8297\n",
            "Epoch 22/100\n",
            "12/12 [==============================] - 0s 3ms/step - loss: 0.4344 - accuracy: 0.8324\n",
            "Epoch 23/100\n",
            "12/12 [==============================] - 0s 3ms/step - loss: 0.4278 - accuracy: 0.8324\n",
            "Epoch 24/100\n",
            "12/12 [==============================] - 0s 3ms/step - loss: 0.4216 - accuracy: 0.8338\n",
            "Epoch 25/100\n",
            "12/12 [==============================] - 0s 4ms/step - loss: 0.4162 - accuracy: 0.8351\n",
            "Epoch 26/100\n",
            "12/12 [==============================] - 0s 3ms/step - loss: 0.4111 - accuracy: 0.8379\n",
            "Epoch 27/100\n",
            "12/12 [==============================] - 0s 3ms/step - loss: 0.4062 - accuracy: 0.8447\n",
            "Epoch 28/100\n",
            "12/12 [==============================] - 0s 3ms/step - loss: 0.4016 - accuracy: 0.8474\n",
            "Epoch 29/100\n",
            "12/12 [==============================] - 0s 3ms/step - loss: 0.3977 - accuracy: 0.8460\n",
            "Epoch 30/100\n",
            "12/12 [==============================] - 0s 3ms/step - loss: 0.3942 - accuracy: 0.8474\n",
            "Epoch 31/100\n",
            "12/12 [==============================] - 0s 3ms/step - loss: 0.3908 - accuracy: 0.8501\n",
            "Epoch 32/100\n",
            "12/12 [==============================] - 0s 3ms/step - loss: 0.3871 - accuracy: 0.8501\n",
            "Epoch 33/100\n",
            "12/12 [==============================] - 0s 3ms/step - loss: 0.3842 - accuracy: 0.8515\n",
            "Epoch 34/100\n",
            "12/12 [==============================] - 0s 3ms/step - loss: 0.3813 - accuracy: 0.8542\n",
            "Epoch 35/100\n",
            "12/12 [==============================] - 0s 3ms/step - loss: 0.3782 - accuracy: 0.8569\n",
            "Epoch 36/100\n",
            "12/12 [==============================] - 0s 4ms/step - loss: 0.3758 - accuracy: 0.8583\n",
            "Epoch 37/100\n",
            "12/12 [==============================] - 0s 3ms/step - loss: 0.3729 - accuracy: 0.8597\n",
            "Epoch 38/100\n",
            "12/12 [==============================] - 0s 3ms/step - loss: 0.3706 - accuracy: 0.8597\n",
            "Epoch 39/100\n",
            "12/12 [==============================] - 0s 3ms/step - loss: 0.3683 - accuracy: 0.8583\n",
            "Epoch 40/100\n",
            "12/12 [==============================] - 0s 3ms/step - loss: 0.3658 - accuracy: 0.8597\n",
            "Epoch 41/100\n",
            "12/12 [==============================] - 0s 3ms/step - loss: 0.3634 - accuracy: 0.8597\n",
            "Epoch 42/100\n",
            "12/12 [==============================] - 0s 3ms/step - loss: 0.3610 - accuracy: 0.8610\n",
            "Epoch 43/100\n",
            "12/12 [==============================] - 0s 3ms/step - loss: 0.3587 - accuracy: 0.8624\n",
            "Epoch 44/100\n",
            "12/12 [==============================] - 0s 3ms/step - loss: 0.3562 - accuracy: 0.8651\n",
            "Epoch 45/100\n",
            "12/12 [==============================] - 0s 3ms/step - loss: 0.3543 - accuracy: 0.8651\n",
            "Epoch 46/100\n",
            "12/12 [==============================] - 0s 3ms/step - loss: 0.3511 - accuracy: 0.8651\n",
            "Epoch 47/100\n",
            "12/12 [==============================] - 0s 3ms/step - loss: 0.3486 - accuracy: 0.8638\n",
            "Epoch 48/100\n",
            "12/12 [==============================] - 0s 3ms/step - loss: 0.3462 - accuracy: 0.8665\n",
            "Epoch 49/100\n",
            "12/12 [==============================] - 0s 4ms/step - loss: 0.3440 - accuracy: 0.8706\n",
            "Epoch 50/100\n",
            "12/12 [==============================] - 0s 3ms/step - loss: 0.3420 - accuracy: 0.8733\n",
            "Epoch 51/100\n",
            "12/12 [==============================] - 0s 3ms/step - loss: 0.3401 - accuracy: 0.8760\n",
            "Epoch 52/100\n",
            "12/12 [==============================] - 0s 3ms/step - loss: 0.3380 - accuracy: 0.8787\n",
            "Epoch 53/100\n",
            "12/12 [==============================] - 0s 3ms/step - loss: 0.3364 - accuracy: 0.8787\n",
            "Epoch 54/100\n",
            "12/12 [==============================] - 0s 3ms/step - loss: 0.3343 - accuracy: 0.8774\n",
            "Epoch 55/100\n",
            "12/12 [==============================] - 0s 3ms/step - loss: 0.3327 - accuracy: 0.8774\n",
            "Epoch 56/100\n",
            "12/12 [==============================] - 0s 2ms/step - loss: 0.3308 - accuracy: 0.8787\n",
            "Epoch 57/100\n",
            "12/12 [==============================] - 0s 3ms/step - loss: 0.3291 - accuracy: 0.8815\n",
            "Epoch 58/100\n",
            "12/12 [==============================] - 0s 3ms/step - loss: 0.3275 - accuracy: 0.8815\n",
            "Epoch 59/100\n",
            "12/12 [==============================] - 0s 3ms/step - loss: 0.3259 - accuracy: 0.8801\n",
            "Epoch 60/100\n",
            "12/12 [==============================] - 0s 3ms/step - loss: 0.3240 - accuracy: 0.8815\n",
            "Epoch 61/100\n",
            "12/12 [==============================] - 0s 3ms/step - loss: 0.3221 - accuracy: 0.8801\n",
            "Epoch 62/100\n",
            "12/12 [==============================] - 0s 3ms/step - loss: 0.3204 - accuracy: 0.8801\n",
            "Epoch 63/100\n",
            "12/12 [==============================] - 0s 4ms/step - loss: 0.3189 - accuracy: 0.8842\n",
            "Epoch 64/100\n",
            "12/12 [==============================] - 0s 3ms/step - loss: 0.3173 - accuracy: 0.8828\n",
            "Epoch 65/100\n",
            "12/12 [==============================] - 0s 3ms/step - loss: 0.3154 - accuracy: 0.8856\n",
            "Epoch 66/100\n",
            "12/12 [==============================] - 0s 3ms/step - loss: 0.3140 - accuracy: 0.8856\n",
            "Epoch 67/100\n",
            "12/12 [==============================] - 0s 3ms/step - loss: 0.3121 - accuracy: 0.8883\n",
            "Epoch 68/100\n",
            "12/12 [==============================] - 0s 3ms/step - loss: 0.3105 - accuracy: 0.8856\n",
            "Epoch 69/100\n",
            "12/12 [==============================] - 0s 3ms/step - loss: 0.3089 - accuracy: 0.8869\n",
            "Epoch 70/100\n",
            "12/12 [==============================] - 0s 3ms/step - loss: 0.3075 - accuracy: 0.8883\n",
            "Epoch 71/100\n",
            "12/12 [==============================] - 0s 3ms/step - loss: 0.3062 - accuracy: 0.8896\n",
            "Epoch 72/100\n",
            "12/12 [==============================] - 0s 3ms/step - loss: 0.3049 - accuracy: 0.8869\n",
            "Epoch 73/100\n",
            "12/12 [==============================] - 0s 3ms/step - loss: 0.3034 - accuracy: 0.8883\n",
            "Epoch 74/100\n",
            "12/12 [==============================] - 0s 3ms/step - loss: 0.3020 - accuracy: 0.8896\n",
            "Epoch 75/100\n",
            "12/12 [==============================] - 0s 4ms/step - loss: 0.3009 - accuracy: 0.8883\n",
            "Epoch 76/100\n",
            "12/12 [==============================] - 0s 3ms/step - loss: 0.3000 - accuracy: 0.8896\n",
            "Epoch 77/100\n",
            "12/12 [==============================] - 0s 3ms/step - loss: 0.2990 - accuracy: 0.8883\n",
            "Epoch 78/100\n",
            "12/12 [==============================] - 0s 3ms/step - loss: 0.2981 - accuracy: 0.8896\n",
            "Epoch 79/100\n",
            "12/12 [==============================] - 0s 3ms/step - loss: 0.2971 - accuracy: 0.8896\n",
            "Epoch 80/100\n",
            "12/12 [==============================] - 0s 3ms/step - loss: 0.2962 - accuracy: 0.8896\n",
            "Epoch 81/100\n",
            "12/12 [==============================] - 0s 3ms/step - loss: 0.2952 - accuracy: 0.8896\n",
            "Epoch 82/100\n",
            "12/12 [==============================] - 0s 3ms/step - loss: 0.2945 - accuracy: 0.8937\n",
            "Epoch 83/100\n",
            "12/12 [==============================] - 0s 3ms/step - loss: 0.2940 - accuracy: 0.8924\n",
            "Epoch 84/100\n",
            "12/12 [==============================] - 0s 3ms/step - loss: 0.2930 - accuracy: 0.8937\n",
            "Epoch 85/100\n",
            "12/12 [==============================] - 0s 4ms/step - loss: 0.2927 - accuracy: 0.8937\n",
            "Epoch 86/100\n",
            "12/12 [==============================] - 0s 4ms/step - loss: 0.2917 - accuracy: 0.8937\n",
            "Epoch 87/100\n",
            "12/12 [==============================] - 0s 3ms/step - loss: 0.2915 - accuracy: 0.8924\n",
            "Epoch 88/100\n",
            "12/12 [==============================] - 0s 3ms/step - loss: 0.2912 - accuracy: 0.8910\n",
            "Epoch 89/100\n",
            "12/12 [==============================] - 0s 3ms/step - loss: 0.2902 - accuracy: 0.8937\n",
            "Epoch 90/100\n",
            "12/12 [==============================] - 0s 3ms/step - loss: 0.2895 - accuracy: 0.8937\n",
            "Epoch 91/100\n",
            "12/12 [==============================] - 0s 3ms/step - loss: 0.2891 - accuracy: 0.8924\n",
            "Epoch 92/100\n",
            "12/12 [==============================] - 0s 3ms/step - loss: 0.2884 - accuracy: 0.8924\n",
            "Epoch 93/100\n",
            "12/12 [==============================] - 0s 2ms/step - loss: 0.2876 - accuracy: 0.8937\n",
            "Epoch 94/100\n",
            "12/12 [==============================] - 0s 3ms/step - loss: 0.2874 - accuracy: 0.8937\n",
            "Epoch 95/100\n",
            "12/12 [==============================] - 0s 3ms/step - loss: 0.2870 - accuracy: 0.8937\n",
            "Epoch 96/100\n",
            "12/12 [==============================] - 0s 3ms/step - loss: 0.2862 - accuracy: 0.8937\n",
            "Epoch 97/100\n",
            "12/12 [==============================] - 0s 3ms/step - loss: 0.2857 - accuracy: 0.8937\n",
            "Epoch 98/100\n",
            "12/12 [==============================] - 0s 3ms/step - loss: 0.2855 - accuracy: 0.8951\n",
            "Epoch 99/100\n",
            "12/12 [==============================] - 0s 3ms/step - loss: 0.2850 - accuracy: 0.8937\n",
            "Epoch 100/100\n",
            "12/12 [==============================] - 0s 3ms/step - loss: 0.2843 - accuracy: 0.8951\n"
          ]
        }
      ]
    },
    {
      "cell_type": "code",
      "source": [
        "## fitting the Third ANN3 model\n",
        "history3 =ann3.fit(X_train, y_train.values, batch_size = 20, epochs = 100)"
      ],
      "metadata": {
        "colab": {
          "base_uri": "https://localhost:8080/"
        },
        "id": "2JXt7WXCI-TJ",
        "outputId": "2de4cc13-61f4-4c96-9da5-f5892ab59d38"
      },
      "execution_count": null,
      "outputs": [
        {
          "output_type": "stream",
          "name": "stdout",
          "text": [
            "Epoch 1/100\n",
            "37/37 [==============================] - 1s 2ms/step - loss: 0.7660 - accuracy: 0.4360\n",
            "Epoch 2/100\n",
            "37/37 [==============================] - 0s 2ms/step - loss: 0.7080 - accuracy: 0.5109\n",
            "Epoch 3/100\n",
            "37/37 [==============================] - 0s 2ms/step - loss: 0.6737 - accuracy: 0.5817\n",
            "Epoch 4/100\n",
            "37/37 [==============================] - 0s 2ms/step - loss: 0.6415 - accuracy: 0.6608\n",
            "Epoch 5/100\n",
            "37/37 [==============================] - 0s 2ms/step - loss: 0.6035 - accuracy: 0.7262\n",
            "Epoch 6/100\n",
            "37/37 [==============================] - 0s 3ms/step - loss: 0.5657 - accuracy: 0.7738\n",
            "Epoch 7/100\n",
            "37/37 [==============================] - 0s 3ms/step - loss: 0.5392 - accuracy: 0.7997\n",
            "Epoch 8/100\n",
            "37/37 [==============================] - 0s 2ms/step - loss: 0.5140 - accuracy: 0.8229\n",
            "Epoch 9/100\n",
            "37/37 [==============================] - 0s 3ms/step - loss: 0.4900 - accuracy: 0.8351\n",
            "Epoch 10/100\n",
            "37/37 [==============================] - 0s 2ms/step - loss: 0.4681 - accuracy: 0.8501\n",
            "Epoch 11/100\n",
            "37/37 [==============================] - 0s 2ms/step - loss: 0.4491 - accuracy: 0.8529\n",
            "Epoch 12/100\n",
            "37/37 [==============================] - 0s 2ms/step - loss: 0.4305 - accuracy: 0.8610\n",
            "Epoch 13/100\n",
            "37/37 [==============================] - 0s 2ms/step - loss: 0.4152 - accuracy: 0.8651\n",
            "Epoch 14/100\n",
            "37/37 [==============================] - 0s 2ms/step - loss: 0.4024 - accuracy: 0.8665\n",
            "Epoch 15/100\n",
            "37/37 [==============================] - 0s 2ms/step - loss: 0.3912 - accuracy: 0.8706\n",
            "Epoch 16/100\n",
            "37/37 [==============================] - 0s 3ms/step - loss: 0.3821 - accuracy: 0.8787\n",
            "Epoch 17/100\n",
            "37/37 [==============================] - 0s 3ms/step - loss: 0.3745 - accuracy: 0.8747\n",
            "Epoch 18/100\n",
            "37/37 [==============================] - 0s 2ms/step - loss: 0.3677 - accuracy: 0.8774\n",
            "Epoch 19/100\n",
            "37/37 [==============================] - 0s 2ms/step - loss: 0.3616 - accuracy: 0.8760\n",
            "Epoch 20/100\n",
            "37/37 [==============================] - 0s 2ms/step - loss: 0.3563 - accuracy: 0.8774\n",
            "Epoch 21/100\n",
            "37/37 [==============================] - 0s 2ms/step - loss: 0.3516 - accuracy: 0.8760\n",
            "Epoch 22/100\n",
            "37/37 [==============================] - 0s 2ms/step - loss: 0.3477 - accuracy: 0.8801\n",
            "Epoch 23/100\n",
            "37/37 [==============================] - 0s 2ms/step - loss: 0.3433 - accuracy: 0.8801\n",
            "Epoch 24/100\n",
            "37/37 [==============================] - 0s 2ms/step - loss: 0.3397 - accuracy: 0.8787\n",
            "Epoch 25/100\n",
            "37/37 [==============================] - 0s 2ms/step - loss: 0.3371 - accuracy: 0.8815\n",
            "Epoch 26/100\n",
            "37/37 [==============================] - 0s 3ms/step - loss: 0.3334 - accuracy: 0.8815\n",
            "Epoch 27/100\n",
            "37/37 [==============================] - 0s 3ms/step - loss: 0.3308 - accuracy: 0.8856\n",
            "Epoch 28/100\n",
            "37/37 [==============================] - 0s 2ms/step - loss: 0.3274 - accuracy: 0.8869\n",
            "Epoch 29/100\n",
            "37/37 [==============================] - 0s 3ms/step - loss: 0.3246 - accuracy: 0.8856\n",
            "Epoch 30/100\n",
            "37/37 [==============================] - 0s 2ms/step - loss: 0.3213 - accuracy: 0.8910\n",
            "Epoch 31/100\n",
            "37/37 [==============================] - 0s 2ms/step - loss: 0.3182 - accuracy: 0.8869\n",
            "Epoch 32/100\n",
            "37/37 [==============================] - 0s 2ms/step - loss: 0.3140 - accuracy: 0.8896\n",
            "Epoch 33/100\n",
            "37/37 [==============================] - 0s 2ms/step - loss: 0.3109 - accuracy: 0.8896\n",
            "Epoch 34/100\n",
            "37/37 [==============================] - 0s 3ms/step - loss: 0.3084 - accuracy: 0.8924\n",
            "Epoch 35/100\n",
            "37/37 [==============================] - 0s 3ms/step - loss: 0.3055 - accuracy: 0.8883\n",
            "Epoch 36/100\n",
            "37/37 [==============================] - 0s 3ms/step - loss: 0.3018 - accuracy: 0.8910\n",
            "Epoch 37/100\n",
            "37/37 [==============================] - 0s 3ms/step - loss: 0.2997 - accuracy: 0.8924\n",
            "Epoch 38/100\n",
            "37/37 [==============================] - 0s 2ms/step - loss: 0.2970 - accuracy: 0.8937\n",
            "Epoch 39/100\n",
            "37/37 [==============================] - 0s 2ms/step - loss: 0.2942 - accuracy: 0.8965\n",
            "Epoch 40/100\n",
            "37/37 [==============================] - 0s 2ms/step - loss: 0.2923 - accuracy: 0.8951\n",
            "Epoch 41/100\n",
            "37/37 [==============================] - 0s 3ms/step - loss: 0.2888 - accuracy: 0.8965\n",
            "Epoch 42/100\n",
            "37/37 [==============================] - 0s 3ms/step - loss: 0.2871 - accuracy: 0.8978\n",
            "Epoch 43/100\n",
            "37/37 [==============================] - 0s 3ms/step - loss: 0.2848 - accuracy: 0.9019\n",
            "Epoch 44/100\n",
            "37/37 [==============================] - 0s 2ms/step - loss: 0.2819 - accuracy: 0.9005\n",
            "Epoch 45/100\n",
            "37/37 [==============================] - 0s 2ms/step - loss: 0.2792 - accuracy: 0.9033\n",
            "Epoch 46/100\n",
            "37/37 [==============================] - 0s 3ms/step - loss: 0.2772 - accuracy: 0.9060\n",
            "Epoch 47/100\n",
            "37/37 [==============================] - 0s 3ms/step - loss: 0.2746 - accuracy: 0.9060\n",
            "Epoch 48/100\n",
            "37/37 [==============================] - 0s 2ms/step - loss: 0.2735 - accuracy: 0.8992\n",
            "Epoch 49/100\n",
            "37/37 [==============================] - 0s 2ms/step - loss: 0.2697 - accuracy: 0.9074\n",
            "Epoch 50/100\n",
            "37/37 [==============================] - 0s 3ms/step - loss: 0.2677 - accuracy: 0.9046\n",
            "Epoch 51/100\n",
            "37/37 [==============================] - 0s 2ms/step - loss: 0.2645 - accuracy: 0.9074\n",
            "Epoch 52/100\n",
            "37/37 [==============================] - 0s 2ms/step - loss: 0.2624 - accuracy: 0.9060\n",
            "Epoch 53/100\n",
            "37/37 [==============================] - 0s 3ms/step - loss: 0.2603 - accuracy: 0.9060\n",
            "Epoch 54/100\n",
            "37/37 [==============================] - 0s 3ms/step - loss: 0.2591 - accuracy: 0.9114\n",
            "Epoch 55/100\n",
            "37/37 [==============================] - 0s 3ms/step - loss: 0.2559 - accuracy: 0.9114\n",
            "Epoch 56/100\n",
            "37/37 [==============================] - 0s 3ms/step - loss: 0.2543 - accuracy: 0.9114\n",
            "Epoch 57/100\n",
            "37/37 [==============================] - 0s 3ms/step - loss: 0.2520 - accuracy: 0.9101\n",
            "Epoch 58/100\n",
            "37/37 [==============================] - 0s 2ms/step - loss: 0.2504 - accuracy: 0.9142\n",
            "Epoch 59/100\n",
            "37/37 [==============================] - 0s 3ms/step - loss: 0.2490 - accuracy: 0.9128\n",
            "Epoch 60/100\n",
            "37/37 [==============================] - 0s 4ms/step - loss: 0.2468 - accuracy: 0.9155\n",
            "Epoch 61/100\n",
            "37/37 [==============================] - 0s 3ms/step - loss: 0.2465 - accuracy: 0.9183\n",
            "Epoch 62/100\n",
            "37/37 [==============================] - 0s 3ms/step - loss: 0.2442 - accuracy: 0.9128\n",
            "Epoch 63/100\n",
            "37/37 [==============================] - 0s 3ms/step - loss: 0.2427 - accuracy: 0.9196\n",
            "Epoch 64/100\n",
            "37/37 [==============================] - 0s 3ms/step - loss: 0.2401 - accuracy: 0.9237\n",
            "Epoch 65/100\n",
            "37/37 [==============================] - 0s 3ms/step - loss: 0.2382 - accuracy: 0.9237\n",
            "Epoch 66/100\n",
            "37/37 [==============================] - 0s 3ms/step - loss: 0.2373 - accuracy: 0.9264\n",
            "Epoch 67/100\n",
            "37/37 [==============================] - 0s 3ms/step - loss: 0.2361 - accuracy: 0.9264\n",
            "Epoch 68/100\n",
            "37/37 [==============================] - 0s 3ms/step - loss: 0.2346 - accuracy: 0.9251\n",
            "Epoch 69/100\n",
            "37/37 [==============================] - 0s 2ms/step - loss: 0.2337 - accuracy: 0.9251\n",
            "Epoch 70/100\n",
            "37/37 [==============================] - 0s 3ms/step - loss: 0.2315 - accuracy: 0.9264\n",
            "Epoch 71/100\n",
            "37/37 [==============================] - 0s 2ms/step - loss: 0.2315 - accuracy: 0.9264\n",
            "Epoch 72/100\n",
            "37/37 [==============================] - 0s 3ms/step - loss: 0.2298 - accuracy: 0.9251\n",
            "Epoch 73/100\n",
            "37/37 [==============================] - 0s 2ms/step - loss: 0.2286 - accuracy: 0.9264\n",
            "Epoch 74/100\n",
            "37/37 [==============================] - 0s 3ms/step - loss: 0.2281 - accuracy: 0.9237\n",
            "Epoch 75/100\n",
            "37/37 [==============================] - 0s 3ms/step - loss: 0.2268 - accuracy: 0.9278\n",
            "Epoch 76/100\n",
            "37/37 [==============================] - 0s 2ms/step - loss: 0.2256 - accuracy: 0.9278\n",
            "Epoch 77/100\n",
            "37/37 [==============================] - 0s 3ms/step - loss: 0.2244 - accuracy: 0.9292\n",
            "Epoch 78/100\n",
            "37/37 [==============================] - 0s 2ms/step - loss: 0.2231 - accuracy: 0.9332\n",
            "Epoch 79/100\n",
            "37/37 [==============================] - 0s 3ms/step - loss: 0.2226 - accuracy: 0.9292\n",
            "Epoch 80/100\n",
            "37/37 [==============================] - 0s 3ms/step - loss: 0.2219 - accuracy: 0.9292\n",
            "Epoch 81/100\n",
            "37/37 [==============================] - 0s 2ms/step - loss: 0.2213 - accuracy: 0.9305\n",
            "Epoch 82/100\n",
            "37/37 [==============================] - 0s 2ms/step - loss: 0.2202 - accuracy: 0.9332\n",
            "Epoch 83/100\n",
            "37/37 [==============================] - 0s 3ms/step - loss: 0.2191 - accuracy: 0.9292\n",
            "Epoch 84/100\n",
            "37/37 [==============================] - 0s 3ms/step - loss: 0.2176 - accuracy: 0.9319\n",
            "Epoch 85/100\n",
            "37/37 [==============================] - 0s 3ms/step - loss: 0.2172 - accuracy: 0.9305\n",
            "Epoch 86/100\n",
            "37/37 [==============================] - 0s 2ms/step - loss: 0.2162 - accuracy: 0.9292\n",
            "Epoch 87/100\n",
            "37/37 [==============================] - 0s 2ms/step - loss: 0.2155 - accuracy: 0.9305\n",
            "Epoch 88/100\n",
            "37/37 [==============================] - 0s 2ms/step - loss: 0.2154 - accuracy: 0.9305\n",
            "Epoch 89/100\n",
            "37/37 [==============================] - 0s 3ms/step - loss: 0.2148 - accuracy: 0.9305\n",
            "Epoch 90/100\n",
            "37/37 [==============================] - 0s 3ms/step - loss: 0.2137 - accuracy: 0.9305\n",
            "Epoch 91/100\n",
            "37/37 [==============================] - 0s 2ms/step - loss: 0.2124 - accuracy: 0.9305\n",
            "Epoch 92/100\n",
            "37/37 [==============================] - 0s 3ms/step - loss: 0.2129 - accuracy: 0.9319\n",
            "Epoch 93/100\n",
            "37/37 [==============================] - 0s 3ms/step - loss: 0.2106 - accuracy: 0.9332\n",
            "Epoch 94/100\n",
            "37/37 [==============================] - 0s 3ms/step - loss: 0.2106 - accuracy: 0.9292\n",
            "Epoch 95/100\n",
            "37/37 [==============================] - 0s 2ms/step - loss: 0.2106 - accuracy: 0.9332\n",
            "Epoch 96/100\n",
            "37/37 [==============================] - 0s 3ms/step - loss: 0.2089 - accuracy: 0.9292\n",
            "Epoch 97/100\n",
            "37/37 [==============================] - 0s 2ms/step - loss: 0.2085 - accuracy: 0.9319\n",
            "Epoch 98/100\n",
            "37/37 [==============================] - 0s 3ms/step - loss: 0.2077 - accuracy: 0.9319\n",
            "Epoch 99/100\n",
            "37/37 [==============================] - 0s 2ms/step - loss: 0.2078 - accuracy: 0.9305\n",
            "Epoch 100/100\n",
            "37/37 [==============================] - 0s 2ms/step - loss: 0.2077 - accuracy: 0.9332\n"
          ]
        }
      ]
    },
    {
      "cell_type": "code",
      "source": [
        "## fitting the Fourth ANN4 model\n",
        "history4= ann4.fit(X_train, y_train.values, batch_size = 62, epochs = 100)"
      ],
      "metadata": {
        "colab": {
          "base_uri": "https://localhost:8080/"
        },
        "id": "sI676YPwE2AI",
        "outputId": "e2769eda-e476-4aab-f39c-acd6c1a95315"
      },
      "execution_count": null,
      "outputs": [
        {
          "output_type": "stream",
          "name": "stdout",
          "text": [
            "Epoch 1/100\n",
            "12/12 [==============================] - 1s 3ms/step - loss: 0.6422 - accuracy: 0.4782\n",
            "Epoch 2/100\n",
            "12/12 [==============================] - 0s 4ms/step - loss: 0.6187 - accuracy: 0.5777\n",
            "Epoch 3/100\n",
            "12/12 [==============================] - 0s 4ms/step - loss: 0.5990 - accuracy: 0.6621\n",
            "Epoch 4/100\n",
            "12/12 [==============================] - 0s 3ms/step - loss: 0.5839 - accuracy: 0.7153\n",
            "Epoch 5/100\n",
            "12/12 [==============================] - 0s 3ms/step - loss: 0.5705 - accuracy: 0.7548\n",
            "Epoch 6/100\n",
            "12/12 [==============================] - 0s 4ms/step - loss: 0.5576 - accuracy: 0.7711\n",
            "Epoch 7/100\n",
            "12/12 [==============================] - 0s 4ms/step - loss: 0.5440 - accuracy: 0.7820\n",
            "Epoch 8/100\n",
            "12/12 [==============================] - 0s 3ms/step - loss: 0.5303 - accuracy: 0.8011\n",
            "Epoch 9/100\n",
            "12/12 [==============================] - 0s 3ms/step - loss: 0.5168 - accuracy: 0.8038\n",
            "Epoch 10/100\n",
            "12/12 [==============================] - 0s 3ms/step - loss: 0.5031 - accuracy: 0.8093\n",
            "Epoch 11/100\n",
            "12/12 [==============================] - 0s 3ms/step - loss: 0.4901 - accuracy: 0.8215\n",
            "Epoch 12/100\n",
            "12/12 [==============================] - 0s 3ms/step - loss: 0.4777 - accuracy: 0.8270\n",
            "Epoch 13/100\n",
            "12/12 [==============================] - 0s 3ms/step - loss: 0.4669 - accuracy: 0.8311\n",
            "Epoch 14/100\n",
            "12/12 [==============================] - 0s 3ms/step - loss: 0.4561 - accuracy: 0.8379\n",
            "Epoch 15/100\n",
            "12/12 [==============================] - 0s 3ms/step - loss: 0.4467 - accuracy: 0.8365\n",
            "Epoch 16/100\n",
            "12/12 [==============================] - 0s 4ms/step - loss: 0.4372 - accuracy: 0.8392\n",
            "Epoch 17/100\n",
            "12/12 [==============================] - 0s 3ms/step - loss: 0.4289 - accuracy: 0.8406\n",
            "Epoch 18/100\n",
            "12/12 [==============================] - 0s 3ms/step - loss: 0.4203 - accuracy: 0.8406\n",
            "Epoch 19/100\n",
            "12/12 [==============================] - 0s 3ms/step - loss: 0.4126 - accuracy: 0.8447\n",
            "Epoch 20/100\n",
            "12/12 [==============================] - 0s 3ms/step - loss: 0.4062 - accuracy: 0.8447\n",
            "Epoch 21/100\n",
            "12/12 [==============================] - 0s 3ms/step - loss: 0.4005 - accuracy: 0.8474\n",
            "Epoch 22/100\n",
            "12/12 [==============================] - 0s 3ms/step - loss: 0.3956 - accuracy: 0.8474\n",
            "Epoch 23/100\n",
            "12/12 [==============================] - 0s 3ms/step - loss: 0.3914 - accuracy: 0.8501\n",
            "Epoch 24/100\n",
            "12/12 [==============================] - 0s 3ms/step - loss: 0.3876 - accuracy: 0.8515\n",
            "Epoch 25/100\n",
            "12/12 [==============================] - 0s 3ms/step - loss: 0.3846 - accuracy: 0.8515\n",
            "Epoch 26/100\n",
            "12/12 [==============================] - 0s 3ms/step - loss: 0.3823 - accuracy: 0.8515\n",
            "Epoch 27/100\n",
            "12/12 [==============================] - 0s 3ms/step - loss: 0.3798 - accuracy: 0.8515\n",
            "Epoch 28/100\n",
            "12/12 [==============================] - 0s 3ms/step - loss: 0.3775 - accuracy: 0.8515\n",
            "Epoch 29/100\n",
            "12/12 [==============================] - 0s 3ms/step - loss: 0.3757 - accuracy: 0.8515\n",
            "Epoch 30/100\n",
            "12/12 [==============================] - 0s 3ms/step - loss: 0.3736 - accuracy: 0.8556\n",
            "Epoch 31/100\n",
            "12/12 [==============================] - 0s 3ms/step - loss: 0.3720 - accuracy: 0.8556\n",
            "Epoch 32/100\n",
            "12/12 [==============================] - 0s 3ms/step - loss: 0.3705 - accuracy: 0.8556\n",
            "Epoch 33/100\n",
            "12/12 [==============================] - 0s 3ms/step - loss: 0.3689 - accuracy: 0.8569\n",
            "Epoch 34/100\n",
            "12/12 [==============================] - 0s 3ms/step - loss: 0.3676 - accuracy: 0.8569\n",
            "Epoch 35/100\n",
            "12/12 [==============================] - 0s 3ms/step - loss: 0.3663 - accuracy: 0.8583\n",
            "Epoch 36/100\n",
            "12/12 [==============================] - 0s 3ms/step - loss: 0.3653 - accuracy: 0.8597\n",
            "Epoch 37/100\n",
            "12/12 [==============================] - 0s 3ms/step - loss: 0.3640 - accuracy: 0.8638\n",
            "Epoch 38/100\n",
            "12/12 [==============================] - 0s 3ms/step - loss: 0.3631 - accuracy: 0.8651\n",
            "Epoch 39/100\n",
            "12/12 [==============================] - 0s 3ms/step - loss: 0.3621 - accuracy: 0.8610\n",
            "Epoch 40/100\n",
            "12/12 [==============================] - 0s 3ms/step - loss: 0.3610 - accuracy: 0.8610\n",
            "Epoch 41/100\n",
            "12/12 [==============================] - 0s 3ms/step - loss: 0.3599 - accuracy: 0.8624\n",
            "Epoch 42/100\n",
            "12/12 [==============================] - 0s 3ms/step - loss: 0.3590 - accuracy: 0.8638\n",
            "Epoch 43/100\n",
            "12/12 [==============================] - 0s 3ms/step - loss: 0.3578 - accuracy: 0.8638\n",
            "Epoch 44/100\n",
            "12/12 [==============================] - 0s 5ms/step - loss: 0.3567 - accuracy: 0.8610\n",
            "Epoch 45/100\n",
            "12/12 [==============================] - 0s 3ms/step - loss: 0.3556 - accuracy: 0.8638\n",
            "Epoch 46/100\n",
            "12/12 [==============================] - 0s 3ms/step - loss: 0.3541 - accuracy: 0.8651\n",
            "Epoch 47/100\n",
            "12/12 [==============================] - 0s 2ms/step - loss: 0.3529 - accuracy: 0.8665\n",
            "Epoch 48/100\n",
            "12/12 [==============================] - 0s 3ms/step - loss: 0.3517 - accuracy: 0.8665\n",
            "Epoch 49/100\n",
            "12/12 [==============================] - 0s 3ms/step - loss: 0.3505 - accuracy: 0.8665\n",
            "Epoch 50/100\n",
            "12/12 [==============================] - 0s 3ms/step - loss: 0.3492 - accuracy: 0.8665\n",
            "Epoch 51/100\n",
            "12/12 [==============================] - 0s 3ms/step - loss: 0.3483 - accuracy: 0.8651\n",
            "Epoch 52/100\n",
            "12/12 [==============================] - 0s 3ms/step - loss: 0.3473 - accuracy: 0.8678\n",
            "Epoch 53/100\n",
            "12/12 [==============================] - 0s 3ms/step - loss: 0.3462 - accuracy: 0.8678\n",
            "Epoch 54/100\n",
            "12/12 [==============================] - 0s 3ms/step - loss: 0.3455 - accuracy: 0.8678\n",
            "Epoch 55/100\n",
            "12/12 [==============================] - 0s 3ms/step - loss: 0.3445 - accuracy: 0.8665\n",
            "Epoch 56/100\n",
            "12/12 [==============================] - 0s 3ms/step - loss: 0.3434 - accuracy: 0.8678\n",
            "Epoch 57/100\n",
            "12/12 [==============================] - 0s 4ms/step - loss: 0.3424 - accuracy: 0.8692\n",
            "Epoch 58/100\n",
            "12/12 [==============================] - 0s 3ms/step - loss: 0.3416 - accuracy: 0.8692\n",
            "Epoch 59/100\n",
            "12/12 [==============================] - 0s 3ms/step - loss: 0.3405 - accuracy: 0.8692\n",
            "Epoch 60/100\n",
            "12/12 [==============================] - 0s 3ms/step - loss: 0.3394 - accuracy: 0.8692\n",
            "Epoch 61/100\n",
            "12/12 [==============================] - 0s 3ms/step - loss: 0.3387 - accuracy: 0.8692\n",
            "Epoch 62/100\n",
            "12/12 [==============================] - 0s 3ms/step - loss: 0.3376 - accuracy: 0.8706\n",
            "Epoch 63/100\n",
            "12/12 [==============================] - 0s 3ms/step - loss: 0.3371 - accuracy: 0.8678\n",
            "Epoch 64/100\n",
            "12/12 [==============================] - 0s 3ms/step - loss: 0.3362 - accuracy: 0.8678\n",
            "Epoch 65/100\n",
            "12/12 [==============================] - 0s 3ms/step - loss: 0.3355 - accuracy: 0.8678\n",
            "Epoch 66/100\n",
            "12/12 [==============================] - 0s 4ms/step - loss: 0.3344 - accuracy: 0.8665\n",
            "Epoch 67/100\n",
            "12/12 [==============================] - 0s 3ms/step - loss: 0.3337 - accuracy: 0.8692\n",
            "Epoch 68/100\n",
            "12/12 [==============================] - 0s 3ms/step - loss: 0.3330 - accuracy: 0.8692\n",
            "Epoch 69/100\n",
            "12/12 [==============================] - 0s 3ms/step - loss: 0.3324 - accuracy: 0.8678\n",
            "Epoch 70/100\n",
            "12/12 [==============================] - 0s 3ms/step - loss: 0.3317 - accuracy: 0.8665\n",
            "Epoch 71/100\n",
            "12/12 [==============================] - 0s 3ms/step - loss: 0.3309 - accuracy: 0.8665\n",
            "Epoch 72/100\n",
            "12/12 [==============================] - 0s 3ms/step - loss: 0.3303 - accuracy: 0.8678\n",
            "Epoch 73/100\n",
            "12/12 [==============================] - 0s 4ms/step - loss: 0.3295 - accuracy: 0.8651\n",
            "Epoch 74/100\n",
            "12/12 [==============================] - 0s 3ms/step - loss: 0.3288 - accuracy: 0.8651\n",
            "Epoch 75/100\n",
            "12/12 [==============================] - 0s 3ms/step - loss: 0.3279 - accuracy: 0.8678\n",
            "Epoch 76/100\n",
            "12/12 [==============================] - 0s 3ms/step - loss: 0.3273 - accuracy: 0.8678\n",
            "Epoch 77/100\n",
            "12/12 [==============================] - 0s 3ms/step - loss: 0.3267 - accuracy: 0.8678\n",
            "Epoch 78/100\n",
            "12/12 [==============================] - 0s 3ms/step - loss: 0.3257 - accuracy: 0.8665\n",
            "Epoch 79/100\n",
            "12/12 [==============================] - 0s 3ms/step - loss: 0.3252 - accuracy: 0.8665\n",
            "Epoch 80/100\n",
            "12/12 [==============================] - 0s 3ms/step - loss: 0.3247 - accuracy: 0.8678\n",
            "Epoch 81/100\n",
            "12/12 [==============================] - 0s 4ms/step - loss: 0.3240 - accuracy: 0.8665\n",
            "Epoch 82/100\n",
            "12/12 [==============================] - 0s 3ms/step - loss: 0.3233 - accuracy: 0.8706\n",
            "Epoch 83/100\n",
            "12/12 [==============================] - 0s 3ms/step - loss: 0.3228 - accuracy: 0.8706\n",
            "Epoch 84/100\n",
            "12/12 [==============================] - 0s 3ms/step - loss: 0.3222 - accuracy: 0.8692\n",
            "Epoch 85/100\n",
            "12/12 [==============================] - 0s 3ms/step - loss: 0.3214 - accuracy: 0.8692\n",
            "Epoch 86/100\n",
            "12/12 [==============================] - 0s 3ms/step - loss: 0.3211 - accuracy: 0.8692\n",
            "Epoch 87/100\n",
            "12/12 [==============================] - 0s 3ms/step - loss: 0.3204 - accuracy: 0.8706\n",
            "Epoch 88/100\n",
            "12/12 [==============================] - 0s 4ms/step - loss: 0.3197 - accuracy: 0.8706\n",
            "Epoch 89/100\n",
            "12/12 [==============================] - 0s 3ms/step - loss: 0.3193 - accuracy: 0.8706\n",
            "Epoch 90/100\n",
            "12/12 [==============================] - 0s 3ms/step - loss: 0.3189 - accuracy: 0.8706\n",
            "Epoch 91/100\n",
            "12/12 [==============================] - 0s 4ms/step - loss: 0.3181 - accuracy: 0.8706\n",
            "Epoch 92/100\n",
            "12/12 [==============================] - 0s 3ms/step - loss: 0.3176 - accuracy: 0.8706\n",
            "Epoch 93/100\n",
            "12/12 [==============================] - 0s 3ms/step - loss: 0.3170 - accuracy: 0.8706\n",
            "Epoch 94/100\n",
            "12/12 [==============================] - 0s 4ms/step - loss: 0.3163 - accuracy: 0.8692\n",
            "Epoch 95/100\n",
            "12/12 [==============================] - 0s 5ms/step - loss: 0.3157 - accuracy: 0.8692\n",
            "Epoch 96/100\n",
            "12/12 [==============================] - 0s 3ms/step - loss: 0.3150 - accuracy: 0.8692\n",
            "Epoch 97/100\n",
            "12/12 [==============================] - 0s 3ms/step - loss: 0.3147 - accuracy: 0.8692\n",
            "Epoch 98/100\n",
            "12/12 [==============================] - 0s 3ms/step - loss: 0.3140 - accuracy: 0.8692\n",
            "Epoch 99/100\n",
            "12/12 [==============================] - 0s 3ms/step - loss: 0.3135 - accuracy: 0.8692\n",
            "Epoch 100/100\n",
            "12/12 [==============================] - 0s 3ms/step - loss: 0.3129 - accuracy: 0.8692\n"
          ]
        }
      ]
    },
    {
      "cell_type": "markdown",
      "source": [
        "### Plot your model’s training history."
      ],
      "metadata": {
        "id": "gSSbPnB3PQfE"
      }
    },
    {
      "cell_type": "markdown",
      "source": [
        "First Model"
      ],
      "metadata": {
        "id": "S2JEIwwwBHOR"
      }
    },
    {
      "cell_type": "code",
      "source": [
        "# plot history for accuracy of the first ANN model\n",
        "plt.plot(history1.history['accuracy'])\n",
        "plt.title('model accuracy')\n",
        "plt.ylabel('accuracy')\n",
        "plt.xlabel('epoch')\n",
        "plt.show()"
      ],
      "metadata": {
        "id": "J-VqORNnO8Wr",
        "colab": {
          "base_uri": "https://localhost:8080/",
          "height": 295
        },
        "outputId": "bf20e6d8-6067-4b89-ee14-f53222dc72fb"
      },
      "execution_count": null,
      "outputs": [
        {
          "output_type": "display_data",
          "data": {
            "text/plain": [
              "<Figure size 432x288 with 1 Axes>"
            ],
            "image/png": "[encoded data removed]"
          },
          "metadata": {
            "needs_background": "light"
          }
        }
      ]
    },
    {
      "cell_type": "code",
      "source": [
        "# predict test set result for the first ANN model\n",
        "y_pred1 = ann1.predict(X_test)\n",
        "y_pred1 = (y_pred1 > 0.5)"
      ],
      "metadata": {
        "id": "SyiIq82bPB2v",
        "colab": {
          "base_uri": "https://localhost:8080/"
        },
        "outputId": "5f4f8fc6-1f53-4c30-e171-c3a77f9df611"
      },
      "execution_count": null,
      "outputs": [
        {
          "output_type": "stream",
          "name": "stdout",
          "text": [
            "6/6 [==============================] - 0s 3ms/step\n"
          ]
        }
      ]
    },
    {
      "cell_type": "markdown",
      "source": [
        "Second Model"
      ],
      "metadata": {
        "id": "3GBPE3G1BK7P"
      }
    },
    {
      "cell_type": "code",
      "source": [
        "# plot history for accuracy of the second ANN model\n",
        "\n",
        "plt.plot(history2.history['accuracy'])\n",
        "plt.title('The accuracy history')\n",
        "plt.show()"
      ],
      "metadata": {
        "id": "4PFmr3y3BOYk",
        "colab": {
          "base_uri": "https://localhost:8080/",
          "height": 281
        },
        "outputId": "9e040a47-6103-4256-b7f0-d017d362b0fd"
      },
      "execution_count": null,
      "outputs": [
        {
          "output_type": "display_data",
          "data": {
            "text/plain": [
              "<Figure size 432x288 with 1 Axes>"
            ],
            "image/png": "[encoded data removed]"
          },
          "metadata": {
            "needs_background": "light"
          }
        }
      ]
    },
    {
      "cell_type": "code",
      "source": [
        "# Predicting the Test set results of Second Model\n",
        "y_pred2 = ann2.predict(X_test)\n",
        "y_pred2 = (y_pred2 > 0.5)"
      ],
      "metadata": {
        "id": "aFNYtNo8BOk7",
        "colab": {
          "base_uri": "https://localhost:8080/"
        },
        "outputId": "433cc38a-0406-456e-82f7-6f5e39561d48"
      },
      "execution_count": null,
      "outputs": [
        {
          "output_type": "stream",
          "name": "stdout",
          "text": [
            "6/6 [==============================] - 0s 3ms/step\n"
          ]
        }
      ]
    },
    {
      "cell_type": "markdown",
      "source": [
        "Third Model"
      ],
      "metadata": {
        "id": "WSapOcNaE_vB"
      }
    },
    {
      "cell_type": "code",
      "source": [
        "# plot history for accuracy of the Third ANN3 model\n",
        "\n",
        "plt.plot(history3.history['accuracy'])\n",
        "plt.title('Accuracy history')\n",
        "plt.ylabel('accuracy')\n",
        "plt.xlabel('epoch')\n",
        "plt.legend(['train' , 'test'] , loc = 'upper left')\n",
        "plt.show()"
      ],
      "metadata": {
        "colab": {
          "base_uri": "https://localhost:8080/",
          "height": 295
        },
        "id": "gRrzUf9aJMaz",
        "outputId": "5ac2ff15-8ddb-4204-b0f6-8c012fe7e26e"
      },
      "execution_count": null,
      "outputs": [
        {
          "output_type": "display_data",
          "data": {
            "text/plain": [
              "<Figure size 432x288 with 1 Axes>"
            ],
            "image/png": "[encoded data removed]"
          },
          "metadata": {
            "needs_background": "light"
          }
        }
      ]
    },
    {
      "cell_type": "code",
      "source": [
        "# Predicting the Test set results of Third Model\n",
        "\n",
        "y_pred3 = ann3.predict(X_test)\n",
        "y_pred3 = (y_pred3 > 0.5)"
      ],
      "metadata": {
        "colab": {
          "base_uri": "https://localhost:8080/"
        },
        "id": "B6WiS-9GJab4",
        "outputId": "77a15a7a-588d-4ffc-c7a3-b696ed2ed0b5"
      },
      "execution_count": null,
      "outputs": [
        {
          "output_type": "stream",
          "name": "stdout",
          "text": [
            "6/6 [==============================] - 0s 3ms/step\n"
          ]
        }
      ]
    },
    {
      "cell_type": "markdown",
      "source": [
        "Fourth Model"
      ],
      "metadata": {
        "id": "KUYkMm_gFAEc"
      }
    },
    {
      "cell_type": "code",
      "source": [
        "# plot history for accuracy of the Fourth ANN4 model\n",
        "\n",
        "plt.plot(history4.history['accuracy'])\n",
        "plt.title('The accuracy history')\n",
        "plt.show()"
      ],
      "metadata": {
        "colab": {
          "base_uri": "https://localhost:8080/",
          "height": 281
        },
        "id": "iJSnxqtTFIdJ",
        "outputId": "a005b8eb-bccb-43e6-860f-766eb628a7b7"
      },
      "execution_count": null,
      "outputs": [
        {
          "output_type": "display_data",
          "data": {
            "text/plain": [
              "<Figure size 432x288 with 1 Axes>"
            ],
            "image/png": "[encoded data removed]"
          },
          "metadata": {
            "needs_background": "light"
          }
        }
      ]
    },
    {
      "cell_type": "code",
      "source": [
        "# Predicting the Test set results of Fourth Model\n",
        "y_pred4 = ann4.predict(X_test)\n",
        "y_pred4 = (y_pred4 > 0.5)"
      ],
      "metadata": {
        "colab": {
          "base_uri": "https://localhost:8080/"
        },
        "id": "5LSZzhEhFSkS",
        "outputId": "2b11d4f0-275e-4563-f32c-26475d93d1b0"
      },
      "execution_count": null,
      "outputs": [
        {
          "output_type": "stream",
          "name": "stdout",
          "text": [
            "6/6 [==============================] - 0s 3ms/step\n"
          ]
        }
      ]
    },
    {
      "cell_type": "markdown",
      "source": [
        "### Making the Confusion Matrix"
      ],
      "metadata": {
        "id": "5HOQFWT9PLwM"
      }
    },
    {
      "cell_type": "code",
      "source": [
        "#Confusion Matrix ofthe first ANN model ANN1\n",
        "cm1 = confusion_matrix(y_test, y_pred1)\n",
        "\n",
        "print(classification_report(y_test, y_pred1))\n",
        "\n",
        "\n",
        "disp = ConfusionMatrixDisplay(confusion_matrix=cm1)\n",
        "\n",
        "disp = disp.plot()\n",
        "\n",
        "plt.show()"
      ],
      "metadata": {
        "id": "3BDwPh4HPEVK",
        "colab": {
          "base_uri": "https://localhost:8080/",
          "height": 435
        },
        "outputId": "3eaad287-1f72-4cfa-c673-2ce7a456771a"
      },
      "execution_count": null,
      "outputs": [
        {
          "output_type": "stream",
          "name": "stdout",
          "text": [
            "              precision    recall  f1-score   support\n",
            "\n",
            "           0       0.76      0.79      0.78        77\n",
            "           1       0.85      0.82      0.83       107\n",
            "\n",
            "    accuracy                           0.81       184\n",
            "   macro avg       0.80      0.81      0.81       184\n",
            "weighted avg       0.81      0.81      0.81       184\n",
            "\n"
          ]
        },
        {
          "output_type": "display_data",
          "data": {
            "text/plain": [
              "<Figure size 432x288 with 2 Axes>"
            ],
            "image/png": "[encoded data removed]"
          },
          "metadata": {
            "needs_background": "light"
          }
        }
      ]
    },
    {
      "cell_type": "code",
      "source": [
        "#Confusion Matrix ofthe Second  model ANN2\n",
        "cm2 = confusion_matrix(y_test, y_pred2)\n",
        "print(classification_report(y_test, y_pred2))\n",
        "disp = ConfusionMatrixDisplay(confusion_matrix=cm2)\n",
        "\n",
        "disp = disp.plot()\n",
        "\n",
        "plt.show()\n"
      ],
      "metadata": {
        "id": "3iY6R4xJBiPz",
        "colab": {
          "base_uri": "https://localhost:8080/",
          "height": 435
        },
        "outputId": "30b2a972-302d-4597-ad6c-ff18fabe135e"
      },
      "execution_count": null,
      "outputs": [
        {
          "output_type": "stream",
          "name": "stdout",
          "text": [
            "              precision    recall  f1-score   support\n",
            "\n",
            "           0       0.82      0.79      0.81        77\n",
            "           1       0.85      0.88      0.87       107\n",
            "\n",
            "    accuracy                           0.84       184\n",
            "   macro avg       0.84      0.84      0.84       184\n",
            "weighted avg       0.84      0.84      0.84       184\n",
            "\n"
          ]
        },
        {
          "output_type": "display_data",
          "data": {
            "text/plain": [
              "<Figure size 432x288 with 2 Axes>"
            ],
            "image/png": "[encoded data removed]"
          },
          "metadata": {
            "needs_background": "light"
          }
        }
      ]
    },
    {
      "cell_type": "code",
      "source": [
        "#Confusion Matrix ofthe Third ANN model ANN3\n",
        "cm3 = confusion_matrix(y_test, y_pred3)\n",
        "\n",
        "print(classification_report(y_test, y_pred3))\n",
        "\n",
        "\n",
        "disp = ConfusionMatrixDisplay(confusion_matrix=cm3)\n",
        "\n",
        "disp = disp.plot()\n",
        "\n",
        "plt.show()\n"
      ],
      "metadata": {
        "colab": {
          "base_uri": "https://localhost:8080/",
          "height": 435
        },
        "id": "8uK7O5ySKAyY",
        "outputId": "fe7602ff-2f65-4d6a-cdcc-fce781aa1b65"
      },
      "execution_count": null,
      "outputs": [
        {
          "output_type": "stream",
          "name": "stdout",
          "text": [
            "              precision    recall  f1-score   support\n",
            "\n",
            "           0       0.85      0.79      0.82        77\n",
            "           1       0.86      0.90      0.88       107\n",
            "\n",
            "    accuracy                           0.85       184\n",
            "   macro avg       0.85      0.84      0.85       184\n",
            "weighted avg       0.85      0.85      0.85       184\n",
            "\n"
          ]
        },
        {
          "output_type": "display_data",
          "data": {
            "text/plain": [
              "<Figure size 432x288 with 2 Axes>"
            ],
            "image/png": "[encoded data removed]"
          },
          "metadata": {
            "needs_background": "light"
          }
        }
      ]
    },
    {
      "cell_type": "code",
      "source": [
        "#Confusion Matrix ofthe Fourth  model ANN4\n",
        "cm4 = confusion_matrix(y_test, y_pred4)\n",
        "\n",
        "print(classification_report(y_test, y_pred4))\n",
        "\n",
        "\n",
        "disp = ConfusionMatrixDisplay(confusion_matrix=cm4)\n",
        "\n",
        "disp = disp.plot()\n",
        "\n",
        "plt.show()"
      ],
      "metadata": {
        "colab": {
          "base_uri": "https://localhost:8080/",
          "height": 435
        },
        "id": "Mkg7f9PPFgO2",
        "outputId": "a21fee77-a5dd-4bdb-92c4-047e31cd85bb"
      },
      "execution_count": null,
      "outputs": [
        {
          "output_type": "stream",
          "name": "stdout",
          "text": [
            "              precision    recall  f1-score   support\n",
            "\n",
            "           0       0.80      0.78      0.79        77\n",
            "           1       0.84      0.86      0.85       107\n",
            "\n",
            "    accuracy                           0.83       184\n",
            "   macro avg       0.82      0.82      0.82       184\n",
            "weighted avg       0.83      0.83      0.83       184\n",
            "\n"
          ]
        },
        {
          "output_type": "display_data",
          "data": {
            "text/plain": [
              "<Figure size 432x288 with 2 Axes>"
            ],
            "image/png": "[encoded data removed]"
          },
          "metadata": {
            "needs_background": "light"
          }
        }
      ]
    },
    {
      "cell_type": "markdown",
      "source": [
        "# **Classfication Models**"
      ],
      "metadata": {
        "id": "p6AyaAHPiTDn"
      }
    },
    {
      "cell_type": "markdown",
      "source": [
        "## Models with grid search"
      ],
      "metadata": {
        "id": "vtI272e7ta_g"
      }
    },
    {
      "cell_type": "markdown",
      "source": [
        " DecisionTreeClassifier grid search"
      ],
      "metadata": {
        "id": "qFpglVmutg_Q"
      }
    },
    {
      "cell_type": "code",
      "source": [
        "param_dt = {'max_leaf_nodes': list(range(2, 100)), 'min_samples_split': [2, 3, 4]}\n",
        "\n",
        "grid_dt = GridSearchCV(\n",
        "    DecisionTreeClassifier(),\n",
        "    param_dt,\n",
        "    verbose=1,\n",
        "    cv=3)\n",
        "\n",
        "grid_dt.fit(X_train, y_train)"
      ],
      "metadata": {
        "colab": {
          "base_uri": "https://localhost:8080/"
        },
        "id": "go1XrurNtgTJ",
        "outputId": "390fbeb1-33ee-475c-8900-4a2504d36d9a"
      },
      "execution_count": null,
      "outputs": [
        {
          "output_type": "stream",
          "name": "stdout",
          "text": [
            "Fitting 3 folds for each of 294 candidates, totalling 882 fits\n"
          ]
        },
        {
          "output_type": "execute_result",
          "data": {
            "text/plain": [
              "GridSearchCV(cv=3, estimator=DecisionTreeClassifier(),\n",
              "             param_grid={'max_leaf_nodes': [2, 3, 4, 5, 6, 7, 8, 9, 10, 11, 12,\n",
              "                                            13, 14, 15, 16, 17, 18, 19, 20, 21,\n",
              "                                            22, 23, 24, 25, 26, 27, 28, 29, 30,\n",
              "                                            31, ...],\n",
              "                         'min_samples_split': [2, 3, 4]},\n",
              "             verbose=1)"
            ]
          },
          "metadata": {},
          "execution_count": 156
        }
      ]
    },
    {
      "cell_type": "code",
      "source": [
        "grid_dt.best_params_"
      ],
      "metadata": {
        "colab": {
          "base_uri": "https://localhost:8080/"
        },
        "id": "OHbiDti_t1wl",
        "outputId": "b63e387b-cd0f-40ec-a03d-379043be0766"
      },
      "execution_count": null,
      "outputs": [
        {
          "output_type": "execute_result",
          "data": {
            "text/plain": [
              "{'max_leaf_nodes': 12, 'min_samples_split': 3}"
            ]
          },
          "metadata": {},
          "execution_count": 157
        }
      ]
    },
    {
      "cell_type": "code",
      "source": [
        "preds_dt = grid_dt.best_estimator_.predict(X_test)\n",
        "print(classification_report(y_test, preds_dt))\n"
      ],
      "metadata": {
        "colab": {
          "base_uri": "https://localhost:8080/"
        },
        "id": "HfXXdtuXvDfL",
        "outputId": "c1c4f262-a678-4226-857c-6d4e64a11848"
      },
      "execution_count": null,
      "outputs": [
        {
          "output_type": "stream",
          "name": "stdout",
          "text": [
            "              precision    recall  f1-score   support\n",
            "\n",
            "           0       0.80      0.83      0.82        77\n",
            "           1       0.88      0.85      0.86       107\n",
            "\n",
            "    accuracy                           0.84       184\n",
            "   macro avg       0.84      0.84      0.84       184\n",
            "weighted avg       0.84      0.84      0.84       184\n",
            "\n"
          ]
        }
      ]
    },
    {
      "cell_type": "code",
      "source": [
        "plot_confusion_matrix(grid_dt, X_test, y_test, cmap='Blues')\n",
        "plt.show()"
      ],
      "metadata": {
        "colab": {
          "base_uri": "https://localhost:8080/",
          "height": 336
        },
        "id": "yDsNQa4zvFT3",
        "outputId": "2ebe6558-b2e3-4922-848f-0cdb443a9799"
      },
      "execution_count": null,
      "outputs": [
        {
          "output_type": "stream",
          "name": "stderr",
          "text": [
            "/usr/local/lib/python3.7/dist-packages/sklearn/utils/deprecation.py:87: FutureWarning: Function plot_confusion_matrix is deprecated; Function `plot_confusion_matrix` is deprecated in 1.0 and will be removed in 1.2. Use one of the class methods: ConfusionMatrixDisplay.from_predictions or ConfusionMatrixDisplay.from_estimator.\n",
            "  warnings.warn(msg, category=FutureWarning)\n"
          ]
        },
        {
          "output_type": "display_data",
          "data": {
            "text/plain": [
              "<Figure size 432x288 with 2 Axes>"
            ],
            "image/png": "[encoded data removed]"
          },
          "metadata": {
            "needs_background": "light"
          }
        }
      ]
    },
    {
      "cell_type": "markdown",
      "source": [
        "**Random Forest Classifier Gridsearch**"
      ],
      "metadata": {
        "id": "mt8muWuruE72"
      }
    },
    {
      "cell_type": "code",
      "source": [
        "param_rf = {\n",
        "    \"n_estimators\":[5,10,50,100,250],\n",
        "    \"max_depth\":[2,4,8,16,32,None]}\n",
        "\n",
        "grid_rf = GridSearchCV(\n",
        "    RandomForestClassifier(),\n",
        "    param_rf,\n",
        "    cv=5)\n",
        "\n",
        "grid_rf.fit(X_train,y_train.values.ravel())"
      ],
      "metadata": {
        "colab": {
          "base_uri": "https://localhost:8080/"
        },
        "id": "HunEvkkfuEYC",
        "outputId": "d5018cef-af3d-47e7-c599-0b48fd6a437b"
      },
      "execution_count": null,
      "outputs": [
        {
          "output_type": "execute_result",
          "data": {
            "text/plain": [
              "GridSearchCV(cv=5, estimator=RandomForestClassifier(),\n",
              "             param_grid={'max_depth': [2, 4, 8, 16, 32, None],\n",
              "                         'n_estimators': [5, 10, 50, 100, 250]})"
            ]
          },
          "metadata": {},
          "execution_count": 160
        }
      ]
    },
    {
      "cell_type": "code",
      "source": [
        "grid_rf.best_params_"
      ],
      "metadata": {
        "colab": {
          "base_uri": "https://localhost:8080/"
        },
        "id": "FSWrf2PwuMbf",
        "outputId": "84ed2e22-f1ed-4839-de7d-8ba16af98ac3"
      },
      "execution_count": null,
      "outputs": [
        {
          "output_type": "execute_result",
          "data": {
            "text/plain": [
              "{'max_depth': None, 'n_estimators': 250}"
            ]
          },
          "metadata": {},
          "execution_count": 161
        }
      ]
    },
    {
      "cell_type": "code",
      "source": [
        "pred_rf = grid_rf.best_estimator_.predict(X_test)\n",
        "print(classification_report(y_test, pred_rf))\n"
      ],
      "metadata": {
        "colab": {
          "base_uri": "https://localhost:8080/"
        },
        "id": "apZftcfkuQCn",
        "outputId": "27f4662f-3007-4c7d-e545-5e82d4aeb3b6"
      },
      "execution_count": null,
      "outputs": [
        {
          "output_type": "stream",
          "name": "stdout",
          "text": [
            "              precision    recall  f1-score   support\n",
            "\n",
            "           0       0.85      0.81      0.83        77\n",
            "           1       0.86      0.90      0.88       107\n",
            "\n",
            "    accuracy                           0.86       184\n",
            "   macro avg       0.86      0.85      0.85       184\n",
            "weighted avg       0.86      0.86      0.86       184\n",
            "\n"
          ]
        }
      ]
    },
    {
      "cell_type": "code",
      "source": [
        "plot_confusion_matrix(grid_rf.best_estimator_, X=X_test, y_true=y_test, cmap='Blues')"
      ],
      "metadata": {
        "colab": {
          "base_uri": "https://localhost:8080/",
          "height": 351
        },
        "id": "OS1xf2KCvQx_",
        "outputId": "ffbb73b8-98ba-43b9-a5ab-b93e4933bf65"
      },
      "execution_count": null,
      "outputs": [
        {
          "output_type": "stream",
          "name": "stderr",
          "text": [
            "/usr/local/lib/python3.7/dist-packages/sklearn/utils/deprecation.py:87: FutureWarning: Function plot_confusion_matrix is deprecated; Function `plot_confusion_matrix` is deprecated in 1.0 and will be removed in 1.2. Use one of the class methods: ConfusionMatrixDisplay.from_predictions or ConfusionMatrixDisplay.from_estimator.\n",
            "  warnings.warn(msg, category=FutureWarning)\n"
          ]
        },
        {
          "output_type": "execute_result",
          "data": {
            "text/plain": [
              "<sklearn.metrics._plot.confusion_matrix.ConfusionMatrixDisplay at 0x7f414ad0ead0>"
            ]
          },
          "metadata": {},
          "execution_count": 163
        },
        {
          "output_type": "display_data",
          "data": {
            "text/plain": [
              "<Figure size 432x288 with 2 Axes>"
            ],
            "image/png": "[encoded data removed]"
          },
          "metadata": {
            "needs_background": "light"
          }
        }
      ]
    },
    {
      "cell_type": "markdown",
      "source": [
        "**SVC grid search**"
      ],
      "metadata": {
        "id": "XYMLSPNjvs0z"
      }
    },
    {
      "cell_type": "code",
      "source": [
        "# Create param grid to hyper parameter tune the model\n",
        "param_svc ={'C': [0.1, 1, 10, 100, 1000], \n",
        "              'gamma': [1, 0.1, 0.01, 0.001, 0.0001],\n",
        "              'kernel': ['rbf']}\n",
        "\n",
        "\n",
        "grid_svc = GridSearchCV(SVC(),\n",
        "                        param_svc,\n",
        "                        refit = True,\n",
        "                        verbose = 3 \n",
        "                       )\n",
        "grid_svc.fit(X_train,y_train)"
      ],
      "metadata": {
        "colab": {
          "base_uri": "https://localhost:8080/"
        },
        "id": "o-KMj7NvvWAX",
        "outputId": "a03c69f6-88b4-4ab5-e6b6-4087391a814a"
      },
      "execution_count": null,
      "outputs": [
        {
          "output_type": "stream",
          "name": "stdout",
          "text": [
            "Fitting 5 folds for each of 25 candidates, totalling 125 fits\n",
            "[CV 1/5] END ........C=0.1, gamma=1, kernel=rbf;, score=0.551 total time=   0.0s\n",
            "[CV 2/5] END ........C=0.1, gamma=1, kernel=rbf;, score=0.551 total time=   0.0s\n",
            "[CV 3/5] END ........C=0.1, gamma=1, kernel=rbf;, score=0.551 total time=   0.0s\n",
            "[CV 4/5] END ........C=0.1, gamma=1, kernel=rbf;, score=0.551 total time=   0.0s\n",
            "[CV 5/5] END ........C=0.1, gamma=1, kernel=rbf;, score=0.555 total time=   0.0s\n",
            "[CV 1/5] END ......C=0.1, gamma=0.1, kernel=rbf;, score=0.857 total time=   0.0s\n",
            "[CV 2/5] END ......C=0.1, gamma=0.1, kernel=rbf;, score=0.878 total time=   0.0s\n",
            "[CV 3/5] END ......C=0.1, gamma=0.1, kernel=rbf;, score=0.844 total time=   0.0s\n",
            "[CV 4/5] END ......C=0.1, gamma=0.1, kernel=rbf;, score=0.857 total time=   0.0s\n",
            "[CV 5/5] END ......C=0.1, gamma=0.1, kernel=rbf;, score=0.849 total time=   0.0s\n",
            "[CV 1/5] END .....C=0.1, gamma=0.01, kernel=rbf;, score=0.837 total time=   0.0s\n",
            "[CV 2/5] END .....C=0.1, gamma=0.01, kernel=rbf;, score=0.857 total time=   0.0s\n",
            "[CV 3/5] END .....C=0.1, gamma=0.01, kernel=rbf;, score=0.823 total time=   0.0s\n",
            "[CV 4/5] END .....C=0.1, gamma=0.01, kernel=rbf;, score=0.905 total time=   0.0s\n",
            "[CV 5/5] END .....C=0.1, gamma=0.01, kernel=rbf;, score=0.836 total time=   0.0s\n",
            "[CV 1/5] END ....C=0.1, gamma=0.001, kernel=rbf;, score=0.551 total time=   0.0s\n",
            "[CV 2/5] END ....C=0.1, gamma=0.001, kernel=rbf;, score=0.544 total time=   0.0s\n",
            "[CV 3/5] END ....C=0.1, gamma=0.001, kernel=rbf;, score=0.544 total time=   0.0s\n",
            "[CV 4/5] END ....C=0.1, gamma=0.001, kernel=rbf;, score=0.544 total time=   0.0s\n",
            "[CV 5/5] END ....C=0.1, gamma=0.001, kernel=rbf;, score=0.548 total time=   0.0s\n",
            "[CV 1/5] END ...C=0.1, gamma=0.0001, kernel=rbf;, score=0.551 total time=   0.0s\n",
            "[CV 2/5] END ...C=0.1, gamma=0.0001, kernel=rbf;, score=0.544 total time=   0.0s\n",
            "[CV 3/5] END ...C=0.1, gamma=0.0001, kernel=rbf;, score=0.544 total time=   0.0s\n",
            "[CV 4/5] END ...C=0.1, gamma=0.0001, kernel=rbf;, score=0.544 total time=   0.0s\n",
            "[CV 5/5] END ...C=0.1, gamma=0.0001, kernel=rbf;, score=0.548 total time=   0.0s\n",
            "[CV 1/5] END ..........C=1, gamma=1, kernel=rbf;, score=0.769 total time=   0.0s\n",
            "[CV 2/5] END ..........C=1, gamma=1, kernel=rbf;, score=0.748 total time=   0.0s\n",
            "[CV 3/5] END ..........C=1, gamma=1, kernel=rbf;, score=0.762 total time=   0.0s\n",
            "[CV 4/5] END ..........C=1, gamma=1, kernel=rbf;, score=0.776 total time=   0.0s\n",
            "[CV 5/5] END ..........C=1, gamma=1, kernel=rbf;, score=0.733 total time=   0.0s\n",
            "[CV 1/5] END ........C=1, gamma=0.1, kernel=rbf;, score=0.857 total time=   0.0s\n",
            "[CV 2/5] END ........C=1, gamma=0.1, kernel=rbf;, score=0.878 total time=   0.0s\n",
            "[CV 3/5] END ........C=1, gamma=0.1, kernel=rbf;, score=0.884 total time=   0.0s\n",
            "[CV 4/5] END ........C=1, gamma=0.1, kernel=rbf;, score=0.891 total time=   0.0s\n",
            "[CV 5/5] END ........C=1, gamma=0.1, kernel=rbf;, score=0.877 total time=   0.0s\n",
            "[CV 1/5] END .......C=1, gamma=0.01, kernel=rbf;, score=0.857 total time=   0.0s\n",
            "[CV 2/5] END .......C=1, gamma=0.01, kernel=rbf;, score=0.864 total time=   0.0s\n",
            "[CV 3/5] END .......C=1, gamma=0.01, kernel=rbf;, score=0.857 total time=   0.0s\n",
            "[CV 4/5] END .......C=1, gamma=0.01, kernel=rbf;, score=0.898 total time=   0.0s\n",
            "[CV 5/5] END .......C=1, gamma=0.01, kernel=rbf;, score=0.842 total time=   0.0s\n",
            "[CV 1/5] END ......C=1, gamma=0.001, kernel=rbf;, score=0.844 total time=   0.0s\n",
            "[CV 2/5] END ......C=1, gamma=0.001, kernel=rbf;, score=0.850 total time=   0.0s\n",
            "[CV 3/5] END ......C=1, gamma=0.001, kernel=rbf;, score=0.823 total time=   0.0s\n",
            "[CV 4/5] END ......C=1, gamma=0.001, kernel=rbf;, score=0.891 total time=   0.0s\n",
            "[CV 5/5] END ......C=1, gamma=0.001, kernel=rbf;, score=0.836 total time=   0.0s\n",
            "[CV 1/5] END .....C=1, gamma=0.0001, kernel=rbf;, score=0.551 total time=   0.0s\n",
            "[CV 2/5] END .....C=1, gamma=0.0001, kernel=rbf;, score=0.544 total time=   0.0s\n",
            "[CV 3/5] END .....C=1, gamma=0.0001, kernel=rbf;, score=0.544 total time=   0.0s\n",
            "[CV 4/5] END .....C=1, gamma=0.0001, kernel=rbf;, score=0.544 total time=   0.0s\n",
            "[CV 5/5] END .....C=1, gamma=0.0001, kernel=rbf;, score=0.548 total time=   0.0s\n",
            "[CV 1/5] END .........C=10, gamma=1, kernel=rbf;, score=0.796 total time=   0.0s\n",
            "[CV 2/5] END .........C=10, gamma=1, kernel=rbf;, score=0.755 total time=   0.0s\n",
            "[CV 3/5] END .........C=10, gamma=1, kernel=rbf;, score=0.741 total time=   0.0s\n",
            "[CV 4/5] END .........C=10, gamma=1, kernel=rbf;, score=0.769 total time=   0.0s\n",
            "[CV 5/5] END .........C=10, gamma=1, kernel=rbf;, score=0.740 total time=   0.0s\n",
            "[CV 1/5] END .......C=10, gamma=0.1, kernel=rbf;, score=0.830 total time=   0.0s\n",
            "[CV 2/5] END .......C=10, gamma=0.1, kernel=rbf;, score=0.850 total time=   0.0s\n",
            "[CV 3/5] END .......C=10, gamma=0.1, kernel=rbf;, score=0.823 total time=   0.0s\n",
            "[CV 4/5] END .......C=10, gamma=0.1, kernel=rbf;, score=0.871 total time=   0.0s\n",
            "[CV 5/5] END .......C=10, gamma=0.1, kernel=rbf;, score=0.870 total time=   0.0s\n",
            "[CV 1/5] END ......C=10, gamma=0.01, kernel=rbf;, score=0.857 total time=   0.0s\n",
            "[CV 2/5] END ......C=10, gamma=0.01, kernel=rbf;, score=0.864 total time=   0.0s\n",
            "[CV 3/5] END ......C=10, gamma=0.01, kernel=rbf;, score=0.857 total time=   0.0s\n",
            "[CV 4/5] END ......C=10, gamma=0.01, kernel=rbf;, score=0.905 total time=   0.0s\n",
            "[CV 5/5] END ......C=10, gamma=0.01, kernel=rbf;, score=0.863 total time=   0.0s\n",
            "[CV 1/5] END .....C=10, gamma=0.001, kernel=rbf;, score=0.837 total time=   0.0s\n",
            "[CV 2/5] END .....C=10, gamma=0.001, kernel=rbf;, score=0.857 total time=   0.0s\n",
            "[CV 3/5] END .....C=10, gamma=0.001, kernel=rbf;, score=0.857 total time=   0.0s\n",
            "[CV 4/5] END .....C=10, gamma=0.001, kernel=rbf;, score=0.891 total time=   0.0s\n",
            "[CV 5/5] END .....C=10, gamma=0.001, kernel=rbf;, score=0.842 total time=   0.0s\n",
            "[CV 1/5] END ....C=10, gamma=0.0001, kernel=rbf;, score=0.844 total time=   0.0s\n",
            "[CV 2/5] END ....C=10, gamma=0.0001, kernel=rbf;, score=0.850 total time=   0.0s\n",
            "[CV 3/5] END ....C=10, gamma=0.0001, kernel=rbf;, score=0.823 total time=   0.0s\n",
            "[CV 4/5] END ....C=10, gamma=0.0001, kernel=rbf;, score=0.891 total time=   0.0s\n",
            "[CV 5/5] END ....C=10, gamma=0.0001, kernel=rbf;, score=0.829 total time=   0.0s\n",
            "[CV 1/5] END ........C=100, gamma=1, kernel=rbf;, score=0.796 total time=   0.0s\n",
            "[CV 2/5] END ........C=100, gamma=1, kernel=rbf;, score=0.755 total time=   0.0s\n",
            "[CV 3/5] END ........C=100, gamma=1, kernel=rbf;, score=0.741 total time=   0.0s\n",
            "[CV 4/5] END ........C=100, gamma=1, kernel=rbf;, score=0.769 total time=   0.0s\n",
            "[CV 5/5] END ........C=100, gamma=1, kernel=rbf;, score=0.740 total time=   0.0s\n",
            "[CV 1/5] END ......C=100, gamma=0.1, kernel=rbf;, score=0.830 total time=   0.0s\n",
            "[CV 2/5] END ......C=100, gamma=0.1, kernel=rbf;, score=0.850 total time=   0.0s\n",
            "[CV 3/5] END ......C=100, gamma=0.1, kernel=rbf;, score=0.796 total time=   0.0s\n",
            "[CV 4/5] END ......C=100, gamma=0.1, kernel=rbf;, score=0.776 total time=   0.0s\n",
            "[CV 5/5] END ......C=100, gamma=0.1, kernel=rbf;, score=0.795 total time=   0.0s\n",
            "[CV 1/5] END .....C=100, gamma=0.01, kernel=rbf;, score=0.850 total time=   0.0s\n",
            "[CV 2/5] END .....C=100, gamma=0.01, kernel=rbf;, score=0.864 total time=   0.0s\n",
            "[CV 3/5] END .....C=100, gamma=0.01, kernel=rbf;, score=0.837 total time=   0.0s\n",
            "[CV 4/5] END .....C=100, gamma=0.01, kernel=rbf;, score=0.864 total time=   0.0s\n",
            "[CV 5/5] END .....C=100, gamma=0.01, kernel=rbf;, score=0.849 total time=   0.0s\n",
            "[CV 1/5] END ....C=100, gamma=0.001, kernel=rbf;, score=0.837 total time=   0.0s\n",
            "[CV 2/5] END ....C=100, gamma=0.001, kernel=rbf;, score=0.857 total time=   0.0s\n",
            "[CV 3/5] END ....C=100, gamma=0.001, kernel=rbf;, score=0.844 total time=   0.0s\n",
            "[CV 4/5] END ....C=100, gamma=0.001, kernel=rbf;, score=0.905 total time=   0.0s\n",
            "[CV 5/5] END ....C=100, gamma=0.001, kernel=rbf;, score=0.849 total time=   0.0s\n",
            "[CV 1/5] END ...C=100, gamma=0.0001, kernel=rbf;, score=0.837 total time=   0.0s\n",
            "[CV 2/5] END ...C=100, gamma=0.0001, kernel=rbf;, score=0.857 total time=   0.0s\n",
            "[CV 3/5] END ...C=100, gamma=0.0001, kernel=rbf;, score=0.857 total time=   0.0s\n",
            "[CV 4/5] END ...C=100, gamma=0.0001, kernel=rbf;, score=0.898 total time=   0.0s\n",
            "[CV 5/5] END ...C=100, gamma=0.0001, kernel=rbf;, score=0.842 total time=   0.0s\n",
            "[CV 1/5] END .......C=1000, gamma=1, kernel=rbf;, score=0.796 total time=   0.0s\n",
            "[CV 2/5] END .......C=1000, gamma=1, kernel=rbf;, score=0.755 total time=   0.0s\n",
            "[CV 3/5] END .......C=1000, gamma=1, kernel=rbf;, score=0.741 total time=   0.0s\n",
            "[CV 4/5] END .......C=1000, gamma=1, kernel=rbf;, score=0.769 total time=   0.0s\n",
            "[CV 5/5] END .......C=1000, gamma=1, kernel=rbf;, score=0.740 total time=   0.0s\n",
            "[CV 1/5] END .....C=1000, gamma=0.1, kernel=rbf;, score=0.850 total time=   0.0s\n",
            "[CV 2/5] END .....C=1000, gamma=0.1, kernel=rbf;, score=0.810 total time=   0.0s\n",
            "[CV 3/5] END .....C=1000, gamma=0.1, kernel=rbf;, score=0.755 total time=   0.0s\n",
            "[CV 4/5] END .....C=1000, gamma=0.1, kernel=rbf;, score=0.762 total time=   0.0s\n",
            "[CV 5/5] END .....C=1000, gamma=0.1, kernel=rbf;, score=0.801 total time=   0.0s\n",
            "[CV 1/5] END ....C=1000, gamma=0.01, kernel=rbf;, score=0.837 total time=   0.1s\n",
            "[CV 2/5] END ....C=1000, gamma=0.01, kernel=rbf;, score=0.844 total time=   0.1s\n",
            "[CV 3/5] END ....C=1000, gamma=0.01, kernel=rbf;, score=0.844 total time=   0.1s\n",
            "[CV 4/5] END ....C=1000, gamma=0.01, kernel=rbf;, score=0.857 total time=   0.1s\n",
            "[CV 5/5] END ....C=1000, gamma=0.01, kernel=rbf;, score=0.836 total time=   0.1s\n",
            "[CV 1/5] END ...C=1000, gamma=0.001, kernel=rbf;, score=0.850 total time=   0.0s\n",
            "[CV 2/5] END ...C=1000, gamma=0.001, kernel=rbf;, score=0.864 total time=   0.0s\n",
            "[CV 3/5] END ...C=1000, gamma=0.001, kernel=rbf;, score=0.871 total time=   0.0s\n",
            "[CV 4/5] END ...C=1000, gamma=0.001, kernel=rbf;, score=0.898 total time=   0.0s\n",
            "[CV 5/5] END ...C=1000, gamma=0.001, kernel=rbf;, score=0.863 total time=   0.0s\n",
            "[CV 1/5] END ..C=1000, gamma=0.0001, kernel=rbf;, score=0.844 total time=   0.0s\n",
            "[CV 2/5] END ..C=1000, gamma=0.0001, kernel=rbf;, score=0.857 total time=   0.0s\n",
            "[CV 3/5] END ..C=1000, gamma=0.0001, kernel=rbf;, score=0.844 total time=   0.0s\n",
            "[CV 4/5] END ..C=1000, gamma=0.0001, kernel=rbf;, score=0.905 total time=   0.0s\n",
            "[CV 5/5] END ..C=1000, gamma=0.0001, kernel=rbf;, score=0.849 total time=   0.0s\n"
          ]
        },
        {
          "output_type": "execute_result",
          "data": {
            "text/plain": [
              "GridSearchCV(estimator=SVC(),\n",
              "             param_grid={'C': [0.1, 1, 10, 100, 1000],\n",
              "                         'gamma': [1, 0.1, 0.01, 0.001, 0.0001],\n",
              "                         'kernel': ['rbf']},\n",
              "             verbose=3)"
            ]
          },
          "metadata": {},
          "execution_count": 164
        }
      ]
    },
    {
      "cell_type": "code",
      "source": [
        "grid_svc.best_params_"
      ],
      "metadata": {
        "colab": {
          "base_uri": "https://localhost:8080/"
        },
        "id": "bs-wDzBjvzmR",
        "outputId": "fa089fa0-1d90-4aff-9726-cf389915d387"
      },
      "execution_count": null,
      "outputs": [
        {
          "output_type": "execute_result",
          "data": {
            "text/plain": [
              "{'C': 1, 'gamma': 0.1, 'kernel': 'rbf'}"
            ]
          },
          "metadata": {},
          "execution_count": 165
        }
      ]
    },
    {
      "cell_type": "code",
      "source": [
        "pred_svc = grid_svc.best_estimator_.predict(X_test)\n",
        "print(classification_report(y_test, pred_svc))\n"
      ],
      "metadata": {
        "colab": {
          "base_uri": "https://localhost:8080/"
        },
        "id": "yNXpfrJ3v2vO",
        "outputId": "2656cbba-8c93-4846-faa0-f2f9abf934b4"
      },
      "execution_count": null,
      "outputs": [
        {
          "output_type": "stream",
          "name": "stdout",
          "text": [
            "              precision    recall  f1-score   support\n",
            "\n",
            "           0       0.86      0.81      0.83        77\n",
            "           1       0.87      0.91      0.89       107\n",
            "\n",
            "    accuracy                           0.86       184\n",
            "   macro avg       0.86      0.86      0.86       184\n",
            "weighted avg       0.86      0.86      0.86       184\n",
            "\n"
          ]
        }
      ]
    },
    {
      "cell_type": "code",
      "source": [
        "plot_confusion_matrix(grid_svc.best_estimator_, X=X_test, y_true=y_test, cmap='Blues')"
      ],
      "metadata": {
        "colab": {
          "base_uri": "https://localhost:8080/",
          "height": 351
        },
        "id": "0MRtbot1v27T",
        "outputId": "0798d3ee-64e4-48a6-c890-f1cc89c7c736"
      },
      "execution_count": null,
      "outputs": [
        {
          "output_type": "stream",
          "name": "stderr",
          "text": [
            "/usr/local/lib/python3.7/dist-packages/sklearn/utils/deprecation.py:87: FutureWarning: Function plot_confusion_matrix is deprecated; Function `plot_confusion_matrix` is deprecated in 1.0 and will be removed in 1.2. Use one of the class methods: ConfusionMatrixDisplay.from_predictions or ConfusionMatrixDisplay.from_estimator.\n",
            "  warnings.warn(msg, category=FutureWarning)\n"
          ]
        },
        {
          "output_type": "execute_result",
          "data": {
            "text/plain": [
              "<sklearn.metrics._plot.confusion_matrix.ConfusionMatrixDisplay at 0x7f414ae3e6d0>"
            ]
          },
          "metadata": {},
          "execution_count": 167
        },
        {
          "output_type": "display_data",
          "data": {
            "text/plain": [
              "<Figure size 432x288 with 2 Axes>"
            ],
            "image/png": "[encoded data removed]"
          },
          "metadata": {
            "needs_background": "light"
          }
        }
      ]
    },
    {
      "cell_type": "markdown",
      "source": [
        "**KNeighborsClassifier grid search**"
      ],
      "metadata": {
        "id": "JpO5dhZ7wbMm"
      }
    },
    {
      "cell_type": "code",
      "source": [
        "k_range = list(range(1,31))\n",
        "weight_options = [\"uniform\", \"distance\"]\n",
        "\n",
        "param_knn = dict(n_neighbors = k_range, weights = weight_options)\n",
        "\n",
        "grid_knn =  GridSearchCV(\n",
        "    KNeighborsClassifier(),\n",
        "    param_grid=param_knn,\n",
        "    cv=5)\n",
        "\n",
        "grid_knn.fit(X_train,y_train)"
      ],
      "metadata": {
        "colab": {
          "base_uri": "https://localhost:8080/"
        },
        "id": "2umv5ZF0wiJA",
        "outputId": "e7617013-9d05-461d-b954-0b9b6c28b297"
      },
      "execution_count": null,
      "outputs": [
        {
          "output_type": "execute_result",
          "data": {
            "text/plain": [
              "GridSearchCV(cv=5, estimator=KNeighborsClassifier(),\n",
              "             param_grid={'n_neighbors': [1, 2, 3, 4, 5, 6, 7, 8, 9, 10, 11, 12,\n",
              "                                         13, 14, 15, 16, 17, 18, 19, 20, 21, 22,\n",
              "                                         23, 24, 25, 26, 27, 28, 29, 30],\n",
              "                         'weights': ['uniform', 'distance']})"
            ]
          },
          "metadata": {},
          "execution_count": 168
        }
      ]
    },
    {
      "cell_type": "code",
      "source": [
        "grid_knn.best_params_"
      ],
      "metadata": {
        "colab": {
          "base_uri": "https://localhost:8080/"
        },
        "id": "oQEXmJ_fwiQe",
        "outputId": "a9fa4d3d-1bcc-433f-b7b3-7dd7bdc87ffc"
      },
      "execution_count": null,
      "outputs": [
        {
          "output_type": "execute_result",
          "data": {
            "text/plain": [
              "{'n_neighbors': 19, 'weights': 'distance'}"
            ]
          },
          "metadata": {},
          "execution_count": 169
        }
      ]
    },
    {
      "cell_type": "code",
      "source": [
        "pred_knn = grid_knn.best_estimator_.predict(X_test)\n",
        "print(classification_report(y_test, pred_knn))\n"
      ],
      "metadata": {
        "colab": {
          "base_uri": "https://localhost:8080/"
        },
        "id": "nvLwG3ANwiXx",
        "outputId": "2287e422-c6f2-4b86-acb7-3c9dd4d813fc"
      },
      "execution_count": null,
      "outputs": [
        {
          "output_type": "stream",
          "name": "stdout",
          "text": [
            "              precision    recall  f1-score   support\n",
            "\n",
            "           0       0.79      0.83      0.81        77\n",
            "           1       0.87      0.84      0.86       107\n",
            "\n",
            "    accuracy                           0.84       184\n",
            "   macro avg       0.83      0.84      0.83       184\n",
            "weighted avg       0.84      0.84      0.84       184\n",
            "\n"
          ]
        }
      ]
    },
    {
      "cell_type": "code",
      "source": [
        "plot_confusion_matrix(grid_knn.best_estimator_, X=X_test, y_true=y_test, cmap='Blues')"
      ],
      "metadata": {
        "colab": {
          "base_uri": "https://localhost:8080/",
          "height": 355
        },
        "id": "7VyFq1Ufws_9",
        "outputId": "ea72472a-a8df-42c6-9530-10517b29a923"
      },
      "execution_count": null,
      "outputs": [
        {
          "output_type": "stream",
          "name": "stderr",
          "text": [
            "/usr/local/lib/python3.7/dist-packages/sklearn/utils/deprecation.py:87: FutureWarning: Function plot_confusion_matrix is deprecated; Function `plot_confusion_matrix` is deprecated in 1.0 and will be removed in 1.2. Use one of the class methods: ConfusionMatrixDisplay.from_predictions or ConfusionMatrixDisplay.from_estimator.\n",
            "  warnings.warn(msg, category=FutureWarning)\n"
          ]
        },
        {
          "output_type": "execute_result",
          "data": {
            "text/plain": [
              "<sklearn.metrics._plot.confusion_matrix.ConfusionMatrixDisplay at 0x7f414aeb1ad0>"
            ]
          },
          "metadata": {},
          "execution_count": 171
        },
        {
          "output_type": "display_data",
          "data": {
            "text/plain": [
              "<Figure size 432x288 with 2 Axes>"
            ],
            "image/png": "[encoded data removed]"
          },
          "metadata": {
            "needs_background": "light"
          }
        }
      ]
    },
    {
      "cell_type": "markdown",
      "source": [
        "**XGBClassifier grid search**"
      ],
      "metadata": {
        "id": "wBw1mLX7w1LO"
      }
    },
    {
      "cell_type": "code",
      "source": [
        "param_xg = {'nthread':[4], #when use hyperthread, xgboost may become slower\n",
        "              'objective':['binary:logistic'],\n",
        "              'learning_rate': [0.05], #so called `eta` value\n",
        "              'max_depth': [6],\n",
        "              'min_child_weight': [11],\n",
        "              'silent': [1],\n",
        "              'subsample': [0.8],\n",
        "              'colsample_bytree': [0.7],\n",
        "              'n_estimators': [5], #number of trees, change it to 1000 for better results\n",
        "              'missing':[-999],\n",
        "              'seed': [1337]}\n",
        "\n",
        "grid_xg = GridSearchCV(XGBClassifier(),\n",
        "                   param_xg,\n",
        "                   n_jobs=5, \n",
        "                   cv=5, \n",
        "                   scoring='roc_auc',\n",
        "                   verbose=2, refit=True)\n",
        "\n",
        "grid_xg.fit(X_train,y_train)"
      ],
      "metadata": {
        "colab": {
          "base_uri": "https://localhost:8080/"
        },
        "id": "HDa5XApdx2UN",
        "outputId": "f2f82c53-8c5d-4eb9-acec-5b5fd2306cdb"
      },
      "execution_count": null,
      "outputs": [
        {
          "output_type": "stream",
          "name": "stdout",
          "text": [
            "Fitting 5 folds for each of 1 candidates, totalling 5 fits\n"
          ]
        },
        {
          "output_type": "execute_result",
          "data": {
            "text/plain": [
              "GridSearchCV(cv=5, estimator=XGBClassifier(), n_jobs=5,\n",
              "             param_grid={'colsample_bytree': [0.7], 'learning_rate': [0.05],\n",
              "                         'max_depth': [6], 'min_child_weight': [11],\n",
              "                         'missing': [-999], 'n_estimators': [5], 'nthread': [4],\n",
              "                         'objective': ['binary:logistic'], 'seed': [1337],\n",
              "                         'silent': [1], 'subsample': [0.8]},\n",
              "             scoring='roc_auc', verbose=2)"
            ]
          },
          "metadata": {},
          "execution_count": 172
        }
      ]
    },
    {
      "cell_type": "code",
      "source": [
        "grid_xg.best_params_"
      ],
      "metadata": {
        "colab": {
          "base_uri": "https://localhost:8080/"
        },
        "id": "mp3sm6o_x2md",
        "outputId": "288ec8f0-80b3-4fa7-e34b-56e9b2018e95"
      },
      "execution_count": null,
      "outputs": [
        {
          "output_type": "execute_result",
          "data": {
            "text/plain": [
              "{'colsample_bytree': 0.7,\n",
              " 'learning_rate': 0.05,\n",
              " 'max_depth': 6,\n",
              " 'min_child_weight': 11,\n",
              " 'missing': -999,\n",
              " 'n_estimators': 5,\n",
              " 'nthread': 4,\n",
              " 'objective': 'binary:logistic',\n",
              " 'seed': 1337,\n",
              " 'silent': 1,\n",
              " 'subsample': 0.8}"
            ]
          },
          "metadata": {},
          "execution_count": 173
        }
      ]
    },
    {
      "cell_type": "code",
      "source": [
        "pred_xg = grid_xg.best_estimator_.predict(X_test)\n",
        "print(classification_report(y_test, pred_xg))\n"
      ],
      "metadata": {
        "colab": {
          "base_uri": "https://localhost:8080/"
        },
        "id": "LofXMju4x2uP",
        "outputId": "73279144-afc7-4764-9dcf-a463d1c49f24"
      },
      "execution_count": null,
      "outputs": [
        {
          "output_type": "stream",
          "name": "stdout",
          "text": [
            "              precision    recall  f1-score   support\n",
            "\n",
            "           0       0.75      0.75      0.75        77\n",
            "           1       0.82      0.82      0.82       107\n",
            "\n",
            "    accuracy                           0.79       184\n",
            "   macro avg       0.79      0.79      0.79       184\n",
            "weighted avg       0.79      0.79      0.79       184\n",
            "\n"
          ]
        }
      ]
    },
    {
      "cell_type": "code",
      "source": [
        "plot_confusion_matrix(grid_xg.best_estimator_, X=X_test, y_true=y_test, cmap='Blues')"
      ],
      "metadata": {
        "colab": {
          "base_uri": "https://localhost:8080/",
          "height": 351
        },
        "id": "rnBSWyaix26f",
        "outputId": "6933ef4d-9ea5-4dbb-fbdf-cbd97d7328a4"
      },
      "execution_count": null,
      "outputs": [
        {
          "output_type": "stream",
          "name": "stderr",
          "text": [
            "/usr/local/lib/python3.7/dist-packages/sklearn/utils/deprecation.py:87: FutureWarning: Function plot_confusion_matrix is deprecated; Function `plot_confusion_matrix` is deprecated in 1.0 and will be removed in 1.2. Use one of the class methods: ConfusionMatrixDisplay.from_predictions or ConfusionMatrixDisplay.from_estimator.\n",
            "  warnings.warn(msg, category=FutureWarning)\n"
          ]
        },
        {
          "output_type": "execute_result",
          "data": {
            "text/plain": [
              "<sklearn.metrics._plot.confusion_matrix.ConfusionMatrixDisplay at 0x7f414ac1cfd0>"
            ]
          },
          "metadata": {},
          "execution_count": 175
        },
        {
          "output_type": "display_data",
          "data": {
            "text/plain": [
              "<Figure size 432x288 with 2 Axes>"
            ],
            "image/png": "[encoded data removed]"
          },
          "metadata": {
            "needs_background": "light"
          }
        }
      ]
    },
    {
      "cell_type": "markdown",
      "source": [
        "### Classification Evaluation Function"
      ],
      "metadata": {
        "id": "a7YVUPWLqTmM"
      }
    },
    {
      "cell_type": "code",
      "source": [
        "df_perf_metrics = pd.DataFrame(columns=[\n",
        "    'Model', 'Accuracy_Training_Set', 'Accuracy_Test_Set', 'Precision',\n",
        "    'Recall', 'f1_score'\n",
        "])\n",
        "models_trained_list = []\n",
        "\n",
        "def get_perf_metrics(model, i):\n",
        "    # model name\n",
        "    model_name = type(model).__name__\n",
        "    print(\"Training {} model...\".format(model_name))\n",
        "    # Fitting of model\n",
        "    model.fit(X_train, y_train)\n",
        "    print(\"Completed {} model training.\".format(model_name))\n",
        "    # Predictions\n",
        "    y_pred = model.predict(X_test)\n",
        "    # Add to ith row of dataframe - metrics\n",
        "\n",
        "    df_perf_metrics.loc[i] = [\n",
        "        model_name,\n",
        "        model.score(X_train, y_train),\n",
        "        model.score(X_test, y_test),\n",
        "        precision_score(y_test, y_pred),\n",
        "        recall_score(y_test, y_pred),\n",
        "        f1_score(y_test, y_pred),\n",
        "    ]\n",
        "   \n",
        "    print(\"Completed {} model's performance assessment.\".format(model_name))"
      ],
      "metadata": {
        "id": "lvCbzEyQspUE"
      },
      "execution_count": null,
      "outputs": []
    },
    {
      "cell_type": "code",
      "source": [
        "models_list = [LogisticRegression(C = 100.0, penalty = 'l2', solver = 'lbfgs'),\n",
        "               DecisionTreeClassifier(max_leaf_nodes = 28, min_samples_split = 4),\n",
        "               RandomForestClassifier(max_depth= None, n_estimators = 100),\n",
        "               SVC(C = 1000, gamma = 0.0001, kernel= 'rbf'),\n",
        "               KNeighborsClassifier(n_neighbors = 17, weights = 'uniform'),\n",
        "               XGBClassifier(colsample_bytree = 0.7, learning_rate = 0.05, max_depth = 6, min_child_weight = 11,\n",
        "                             missing = -999, n_estimators = 5, nthread = 4, objective ='binary:logistic', seed = 1337,\n",
        "                             silent = 1, subsample = 0.8)\n",
        "               ]"
      ],
      "metadata": {
        "id": "MR9j_2oYs5w_"
      },
      "execution_count": null,
      "outputs": []
    },
    {
      "cell_type": "code",
      "source": [
        "from sklearn.metrics import r2_score,f1_score\n",
        "for n, model in enumerate(models_list):\n",
        "    get_perf_metrics(model, n)"
      ],
      "metadata": {
        "colab": {
          "base_uri": "https://localhost:8080/"
        },
        "id": "0xSbkNqztA4f",
        "outputId": "db3ff4bc-0532-40fa-ca78-d90546d0349b"
      },
      "execution_count": null,
      "outputs": [
        {
          "output_type": "stream",
          "name": "stdout",
          "text": [
            "Training LogisticRegression model...\n",
            "Completed LogisticRegression model training.\n",
            "Completed LogisticRegression model's performance assessment.\n",
            "Training DecisionTreeClassifier model...\n",
            "Completed DecisionTreeClassifier model training.\n",
            "Completed DecisionTreeClassifier model's performance assessment.\n",
            "Training RandomForestClassifier model...\n",
            "Completed RandomForestClassifier model training.\n",
            "Completed RandomForestClassifier model's performance assessment.\n",
            "Training SVC model...\n",
            "Completed SVC model training.\n",
            "Completed SVC model's performance assessment.\n",
            "Training KNeighborsClassifier model...\n",
            "Completed KNeighborsClassifier model training.\n",
            "Completed KNeighborsClassifier model's performance assessment.\n",
            "Training XGBClassifier model...\n",
            "Completed XGBClassifier model training.\n",
            "Completed XGBClassifier model's performance assessment.\n"
          ]
        }
      ]
    },
    {
      "cell_type": "markdown",
      "source": [
        "## ANN Evaluation added to performance metrics dataframe"
      ],
      "metadata": {
        "id": "2LU-IP_-tMZs"
      }
    },
    {
      "cell_type": "code",
      "source": [
        "nn_list = [history1, history2, history3, history4]\n",
        "pred_list = [y_pred1, y_pred2, y_pred3, y_pred4]\n",
        "\n",
        "def get_nn_metrics(history_, n):\n",
        "    train_acc = history_.history['accuracy'][-1]\n",
        "    df_perf_metrics.loc[len(df_perf_metrics.index)] = [\n",
        "        'ANN '+ str(n+1),\n",
        "        train_acc,\n",
        "        accuracy_score(y_test, pred_list[n]),\n",
        "        precision_score(y_test, pred_list[n]),\n",
        "        recall_score(y_test, pred_list[n]),\n",
        "        f1_score(y_test, pred_list[n])\n",
        "    ]\n",
        "\n",
        "for n, history in enumerate(nn_list):\n",
        "    get_nn_metrics(history, n)"
      ],
      "metadata": {
        "id": "0CqxIijI089I"
      },
      "execution_count": null,
      "outputs": []
    },
    {
      "cell_type": "code",
      "source": [
        "df_perf_metrics"
      ],
      "metadata": {
        "colab": {
          "base_uri": "https://localhost:8080/",
          "height": 363
        },
        "id": "5DK0O5cs1Y-0",
        "outputId": "9db8cacd-f8f3-4e2d-c477-3f89e7e6b2a0"
      },
      "execution_count": null,
      "outputs": [
        {
          "output_type": "execute_result",
          "data": {
            "text/plain": [
              "                    Model  Accuracy_Training_Set  Accuracy_Test_Set  \\\n",
              "0      LogisticRegression               0.859673           0.831522   \n",
              "1  DecisionTreeClassifier               0.918256           0.804348   \n",
              "2  RandomForestClassifier               1.000000           0.853261   \n",
              "3                     SVC               0.869210           0.831522   \n",
              "4    KNeighborsClassifier               0.870572           0.836957   \n",
              "5           XGBClassifier               0.851499           0.793478   \n",
              "6                   ANN 1               0.901907           0.809783   \n",
              "7                   ANN 2               0.895095           0.842391   \n",
              "8                   ANN 3               0.933242           0.853261   \n",
              "9                   ANN 4               0.869210           0.826087   \n",
              "\n",
              "   Precision    Recall  f1_score  \n",
              "0   0.839286  0.878505  0.858447  \n",
              "1   0.831776  0.831776  0.831776  \n",
              "2   0.850877  0.906542  0.877828  \n",
              "3   0.839286  0.878505  0.858447  \n",
              "4   0.881188  0.831776  0.855769  \n",
              "5   0.822430  0.822430  0.822430  \n",
              "6   0.846154  0.822430  0.834123  \n",
              "7   0.854545  0.878505  0.866359  \n",
              "8   0.857143  0.897196  0.876712  \n",
              "9   0.844037  0.859813  0.851852  "
            ],
            "text/html": [
              "\n",
              "  <div id=\"df-2213e5f3-cbe6-4b03-beb0-9303d20c3a10\">\n",
              "    <div class=\"colab-df-container\">\n",
              "      <div>\n",
              "<style scoped>\n",
              "    .dataframe tbody tr th:only-of-type {\n",
              "        vertical-align: middle;\n",
              "    }\n",
              "\n",
              "    .dataframe tbody tr th {\n",
              "        vertical-align: top;\n",
              "    }\n",
              "\n",
              "    .dataframe thead th {\n",
              "        text-align: right;\n",
              "    }\n",
              "</style>\n",
              "<table border=\"1\" class=\"dataframe\">\n",
              "  <thead>\n",
              "    <tr style=\"text-align: right;\">\n",
              "      <th></th>\n",
              "      <th>Model</th>\n",
              "      <th>Accuracy_Training_Set</th>\n",
              "      <th>Accuracy_Test_Set</th>\n",
              "      <th>Precision</th>\n",
              "      <th>Recall</th>\n",
              "      <th>f1_score</th>\n",
              "    </tr>\n",
              "  </thead>\n",
              "  <tbody>\n",
              "    <tr>\n",
              "      <th>0</th>\n",
              "      <td>LogisticRegression</td>\n",
              "      <td>0.859673</td>\n",
              "      <td>0.831522</td>\n",
              "      <td>0.839286</td>\n",
              "      <td>0.878505</td>\n",
              "      <td>0.858447</td>\n",
              "    </tr>\n",
              "    <tr>\n",
              "      <th>1</th>\n",
              "      <td>DecisionTreeClassifier</td>\n",
              "      <td>0.918256</td>\n",
              "      <td>0.804348</td>\n",
              "      <td>0.831776</td>\n",
              "      <td>0.831776</td>\n",
              "      <td>0.831776</td>\n",
              "    </tr>\n",
              "    <tr>\n",
              "      <th>2</th>\n",
              "      <td>RandomForestClassifier</td>\n",
              "      <td>1.000000</td>\n",
              "      <td>0.853261</td>\n",
              "      <td>0.850877</td>\n",
              "      <td>0.906542</td>\n",
              "      <td>0.877828</td>\n",
              "    </tr>\n",
              "    <tr>\n",
              "      <th>3</th>\n",
              "      <td>SVC</td>\n",
              "      <td>0.869210</td>\n",
              "      <td>0.831522</td>\n",
              "      <td>0.839286</td>\n",
              "      <td>0.878505</td>\n",
              "      <td>0.858447</td>\n",
              "    </tr>\n",
              "    <tr>\n",
              "      <th>4</th>\n",
              "      <td>KNeighborsClassifier</td>\n",
              "      <td>0.870572</td>\n",
              "      <td>0.836957</td>\n",
              "      <td>0.881188</td>\n",
              "      <td>0.831776</td>\n",
              "      <td>0.855769</td>\n",
              "    </tr>\n",
              "    <tr>\n",
              "      <th>5</th>\n",
              "      <td>XGBClassifier</td>\n",
              "      <td>0.851499</td>\n",
              "      <td>0.793478</td>\n",
              "      <td>0.822430</td>\n",
              "      <td>0.822430</td>\n",
              "      <td>0.822430</td>\n",
              "    </tr>\n",
              "    <tr>\n",
              "      <th>6</th>\n",
              "      <td>ANN 1</td>\n",
              "      <td>0.901907</td>\n",
              "      <td>0.809783</td>\n",
              "      <td>0.846154</td>\n",
              "      <td>0.822430</td>\n",
              "      <td>0.834123</td>\n",
              "    </tr>\n",
              "    <tr>\n",
              "      <th>7</th>\n",
              "      <td>ANN 2</td>\n",
              "      <td>0.895095</td>\n",
              "      <td>0.842391</td>\n",
              "      <td>0.854545</td>\n",
              "      <td>0.878505</td>\n",
              "      <td>0.866359</td>\n",
              "    </tr>\n",
              "    <tr>\n",
              "      <th>8</th>\n",
              "      <td>ANN 3</td>\n",
              "      <td>0.933242</td>\n",
              "      <td>0.853261</td>\n",
              "      <td>0.857143</td>\n",
              "      <td>0.897196</td>\n",
              "      <td>0.876712</td>\n",
              "    </tr>\n",
              "    <tr>\n",
              "      <th>9</th>\n",
              "      <td>ANN 4</td>\n",
              "      <td>0.869210</td>\n",
              "      <td>0.826087</td>\n",
              "      <td>0.844037</td>\n",
              "      <td>0.859813</td>\n",
              "      <td>0.851852</td>\n",
              "    </tr>\n",
              "  </tbody>\n",
              "</table>\n",
              "</div>\n",
              "      <button class=\"colab-df-convert\" onclick=\"convertToInteractive('df-2213e5f3-cbe6-4b03-beb0-9303d20c3a10')\"\n",
              "              title=\"Convert this dataframe to an interactive table.\"\n",
              "              style=\"display:none;\">\n",
              "        \n",
              "  <svg xmlns=\"http://www.w3.org/2000/svg\" height=\"24px\"viewBox=\"0 0 24 24\"\n",
              "       width=\"24px\">\n",
              "    <path d=\"M0 0h24v24H0V0z\" fill=\"none\"/>\n",
              "    <path d=\"M18.56 5.44l.94 2.06.94-2.06 2.06-.94-2.06-.94-.94-2.06-.94 2.06-2.06.94zm-11 1L8.5 8.5l.94-2.06 2.06-.94-2.06-.94L8.5 2.5l-.94 2.06-2.06.94zm10 10l.94 2.06.94-2.06 2.06-.94-2.06-.94-.94-2.06-.94 2.06-2.06.94z\"/><path d=\"M17.41 7.96l-1.37-1.37c-.4-.4-.92-.59-1.43-.59-.52 0-1.04.2-1.43.59L10.3 9.45l-7.72 7.72c-.78.78-.78 2.05 0 2.83L4 21.41c.39.39.9.59 1.41.59.51 0 1.02-.2 1.41-.59l7.78-7.78 2.81-2.81c.8-.78.8-2.07 0-2.86zM5.41 20L4 18.59l7.72-7.72 1.47 1.35L5.41 20z\"/>\n",
              "  </svg>\n",
              "      </button>\n",
              "      \n",
              "  <style>\n",
              "    .colab-df-container {\n",
              "      display:flex;\n",
              "      flex-wrap:wrap;\n",
              "      gap: 12px;\n",
              "    }\n",
              "\n",
              "    .colab-df-convert {\n",
              "      background-color: #E8F0FE;\n",
              "      border: none;\n",
              "      border-radius: 50%;\n",
              "      cursor: pointer;\n",
              "      display: none;\n",
              "      fill: #1967D2;\n",
              "      height: 32px;\n",
              "      padding: 0 0 0 0;\n",
              "      width: 32px;\n",
              "    }\n",
              "\n",
              "    .colab-df-convert:hover {\n",
              "      background-color: #E2EBFA;\n",
              "      box-shadow: 0px 1px 2px rgba(60, 64, 67, 0.3), 0px 1px 3px 1px rgba(60, 64, 67, 0.15);\n",
              "      fill: #174EA6;\n",
              "    }\n",
              "\n",
              "    [theme=dark] .colab-df-convert {\n",
              "      background-color: #3B4455;\n",
              "      fill: #D2E3FC;\n",
              "    }\n",
              "\n",
              "    [theme=dark] .colab-df-convert:hover {\n",
              "      background-color: #434B5C;\n",
              "      box-shadow: 0px 1px 3px 1px rgba(0, 0, 0, 0.15);\n",
              "      filter: drop-shadow(0px 1px 2px rgba(0, 0, 0, 0.3));\n",
              "      fill: #FFFFFF;\n",
              "    }\n",
              "  </style>\n",
              "\n",
              "      <script>\n",
              "        const buttonEl =\n",
              "          document.querySelector('#df-2213e5f3-cbe6-4b03-beb0-9303d20c3a10 button.colab-df-convert');\n",
              "        buttonEl.style.display =\n",
              "          google.colab.kernel.accessAllowed ? 'block' : 'none';\n",
              "\n",
              "        async function convertToInteractive(key) {\n",
              "          const element = document.querySelector('#df-2213e5f3-cbe6-4b03-beb0-9303d20c3a10');\n",
              "          const dataTable =\n",
              "            await google.colab.kernel.invokeFunction('convertToInteractive',\n",
              "                                                     [key], {});\n",
              "          if (!dataTable) return;\n",
              "\n",
              "          const docLinkHtml = 'Like what you see? Visit the ' +\n",
              "            '<a target=\"_blank\" href=https://colab.research.google.com/notebooks/data_table.ipynb>data table notebook</a>'\n",
              "            + ' to learn more about interactive tables.';\n",
              "          element.innerHTML = '';\n",
              "          dataTable['output_type'] = 'display_data';\n",
              "          await google.colab.output.renderOutput(dataTable, element);\n",
              "          const docLink = document.createElement('div');\n",
              "          docLink.innerHTML = docLinkHtml;\n",
              "          element.appendChild(docLink);\n",
              "        }\n",
              "      </script>\n",
              "    </div>\n",
              "  </div>\n",
              "  "
            ]
          },
          "metadata": {},
          "execution_count": 187
        }
      ]
    },
    {
      "cell_type": "code",
      "source": [
        "#ANN Reports\n",
        "x1=classification_report(y_test, y_pred1)\n",
        "x2=classification_report(y_test, y_pred2)\n",
        "x3=classification_report(y_test, y_pred3)\n",
        "x4=classification_report(y_test, y_pred4)\n",
        "print(x1 ,x2 ,x3 ,x4)\n"
      ],
      "metadata": {
        "colab": {
          "base_uri": "https://localhost:8080/"
        },
        "id": "q0mSqxsX13Af",
        "outputId": "e55ccb86-f229-4a28-9612-6830fbf0341b"
      },
      "execution_count": null,
      "outputs": [
        {
          "output_type": "stream",
          "name": "stdout",
          "text": [
            "              precision    recall  f1-score   support\n",
            "\n",
            "           0       0.76      0.79      0.78        77\n",
            "           1       0.85      0.82      0.83       107\n",
            "\n",
            "    accuracy                           0.81       184\n",
            "   macro avg       0.80      0.81      0.81       184\n",
            "weighted avg       0.81      0.81      0.81       184\n",
            "               precision    recall  f1-score   support\n",
            "\n",
            "           0       0.82      0.79      0.81        77\n",
            "           1       0.85      0.88      0.87       107\n",
            "\n",
            "    accuracy                           0.84       184\n",
            "   macro avg       0.84      0.84      0.84       184\n",
            "weighted avg       0.84      0.84      0.84       184\n",
            "               precision    recall  f1-score   support\n",
            "\n",
            "           0       0.85      0.79      0.82        77\n",
            "           1       0.86      0.90      0.88       107\n",
            "\n",
            "    accuracy                           0.85       184\n",
            "   macro avg       0.85      0.84      0.85       184\n",
            "weighted avg       0.85      0.85      0.85       184\n",
            "               precision    recall  f1-score   support\n",
            "\n",
            "           0       0.80      0.78      0.79        77\n",
            "           1       0.84      0.86      0.85       107\n",
            "\n",
            "    accuracy                           0.83       184\n",
            "   macro avg       0.82      0.82      0.82       184\n",
            "weighted avg       0.83      0.83      0.83       184\n",
            "\n"
          ]
        }
      ]
    },
    {
      "cell_type": "code",
      "source": [],
      "metadata": {
        "id": "BN3B_7rX4KVI"
      },
      "execution_count": null,
      "outputs": []
    }
  ]
}